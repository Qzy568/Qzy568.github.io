{
 "cells": [
  {
   "cell_type": "markdown",
   "id": "6a7e7100-b21f-470d-ba3e-35c5c29233ed",
   "metadata": {},
   "source": [
    "# Transformer公开课（4）\n",
    "# Decoder-Only架构与文字生成案例数据处理\n",
    "#### @菜菜TsaiTsai"
   ]
  },
  {
   "cell_type": "markdown",
   "id": "dd6b90b5-a0e3-464f-96ef-aa9d729030c3",
   "metadata": {},
   "source": [
    "## 课程目录\n",
    "\n",
    "<font color=\"red\">**红色为本节公开课内容，其他为付费正课《深度学习实战》课程内容。加vx号littlecat_1201回复“优惠”，即可了解正课哦！**</font><br>"
   ]
  },
  {
   "cell_type": "markdown",
   "id": "0e566827-eb75-4eab-980f-1122de78c162",
   "metadata": {},
   "source": [
    "**0 前言**<br>\n",
    "&nbsp;&nbsp;&nbsp;&nbsp;0.1 Transformer模型的地位与发展历程<br>\n",
    "&nbsp;&nbsp;&nbsp;&nbsp;0.2 序列模型的基本思路与根本诉求<br>\n",
    "\n",
    "**1 注意力机制**<br>\n",
    "&nbsp;&nbsp;&nbsp;&nbsp;1.1 注意力机制的本质<br>\n",
    "&nbsp;&nbsp;&nbsp;&nbsp;1.2 Transformer中的自注意力机制运算流程<br>\n",
    "&nbsp;&nbsp;&nbsp;&nbsp;1.3 Multi-Head Attention 多头注意力机制\n",
    "<br>\n",
    "\n",
    "**2 Transformer的基本结构**<br>\n",
    "&nbsp;&nbsp;&nbsp;&nbsp;2.1 Embedding层与位置编码技术<br>\n",
    "&nbsp;&nbsp;&nbsp;&nbsp;2.2 Encoder结构解析<br>\n",
    "&nbsp;&nbsp;&nbsp;&nbsp;&nbsp;&nbsp;&nbsp;&nbsp;&nbsp;&nbsp;2.2.1 残差连接<br>\n",
    "&nbsp;&nbsp;&nbsp;&nbsp;&nbsp;&nbsp;&nbsp;&nbsp;&nbsp;&nbsp;2.2.2 Layer Normalization层归一化<br>\n",
    "&nbsp;&nbsp;&nbsp;&nbsp;&nbsp;&nbsp;&nbsp;&nbsp;&nbsp;&nbsp;2.2.3 Feed-Forward Networks前馈网络<br>\n",
    "&nbsp;&nbsp;&nbsp;&nbsp;2.3 Decoder结构解析<br>\n",
    "&nbsp;&nbsp;&nbsp;&nbsp;&nbsp;&nbsp;&nbsp;&nbsp;&nbsp;&nbsp;2.3.1 完整Transformer与Decoder-Only结构的数据流<br>\n",
    "&nbsp;&nbsp;&nbsp;&nbsp;&nbsp;&nbsp;&nbsp;&nbsp;&nbsp;&nbsp;2.3.2 Encoder-Decoder结构中的Decoder<br>\n",
    "&nbsp;&nbsp;&nbsp;&nbsp;&nbsp;&nbsp;&nbsp;&nbsp;&nbsp;&nbsp;&nbsp;&nbsp;&nbsp;&nbsp;&nbsp;&nbsp;2.3.2.1 输入与teacher forcing<br>\n",
    "&nbsp;&nbsp;&nbsp;&nbsp;&nbsp;&nbsp;&nbsp;&nbsp;&nbsp;&nbsp;&nbsp;&nbsp;&nbsp;&nbsp;&nbsp;&nbsp;2.3.2.2 掩码注意力机制<br>\n",
    "&nbsp;&nbsp;&nbsp;&nbsp;&nbsp;&nbsp;&nbsp;&nbsp;&nbsp;&nbsp;&nbsp;&nbsp;&nbsp;&nbsp;&nbsp;&nbsp;2.3.2.3 普通掩码与前馈掩码<br>\n",
    "&nbsp;&nbsp;&nbsp;&nbsp;&nbsp;&nbsp;&nbsp;&nbsp;&nbsp;&nbsp;&nbsp;&nbsp;&nbsp;&nbsp;&nbsp;&nbsp;2.3.2.4 编码器-解码器注意力层<br>\n",
    "<font color=\"red\">&nbsp;&nbsp;&nbsp;&nbsp;&nbsp;&nbsp;&nbsp;&nbsp;&nbsp;&nbsp;2.3.3 Decoder-Only结构中的Decoder<br></font>\n",
    "\n",
    "**3 Transformer的PyTorch实战**<br>\n",
    "&nbsp;&nbsp;&nbsp;&nbsp;3.1 PyTorch中的Transformer层<br>\n",
    "&nbsp;&nbsp;&nbsp;&nbsp;3.2 Encoder-Only任务下的Trnasformer实战<br>\n",
    "&nbsp;&nbsp;&nbsp;&nbsp;&nbsp;&nbsp;&nbsp;&nbsp;&nbsp;&nbsp;3.2.1 Encoder-Only任务下的Transformer架构<br>\n",
    "&nbsp;&nbsp;&nbsp;&nbsp;&nbsp;&nbsp;&nbsp;&nbsp;&nbsp;&nbsp;&nbsp;&nbsp;&nbsp;&nbsp;&nbsp;&nbsp;3.2.1.1 Embedding层与Encoder数据输入<br>\n",
    "&nbsp;&nbsp;&nbsp;&nbsp;&nbsp;&nbsp;&nbsp;&nbsp;&nbsp;&nbsp;&nbsp;&nbsp;&nbsp;&nbsp;&nbsp;&nbsp;3.2.1.2 位置编码的实现与技巧<br>\n",
    "&nbsp;&nbsp;&nbsp;&nbsp;&nbsp;&nbsp;&nbsp;&nbsp;&nbsp;&nbsp;&nbsp;&nbsp;&nbsp;&nbsp;&nbsp;&nbsp;3.2.1.3 从0实现编码器Only架构<br>\n",
    "&nbsp;&nbsp;&nbsp;&nbsp;&nbsp;&nbsp;&nbsp;&nbsp;&nbsp;&nbsp;3.2.2 【实战】Transformer的情感分类案例<br>\n",
    "&nbsp;&nbsp;&nbsp;&nbsp;3.3【实战】Decoder-Only架构下的文字生成案例<br>\n",
    "<font color=\"red\">&nbsp;&nbsp;&nbsp;&nbsp;&nbsp;&nbsp;&nbsp;&nbsp;&nbsp;&nbsp;3.3.1 数据导入与数据预处理<br></font>\n",
    "&nbsp;&nbsp;&nbsp;&nbsp;&nbsp;&nbsp;&nbsp;&nbsp;&nbsp;&nbsp;3.3.2 Decoder-Only Transformer的架构<br>\n",
    "&nbsp;&nbsp;&nbsp;&nbsp;&nbsp;&nbsp;&nbsp;&nbsp;&nbsp;&nbsp;3.3.3 生成式算法的预测与训练<br>\n",
    "&nbsp;&nbsp;&nbsp;&nbsp;&nbsp;&nbsp;&nbsp;&nbsp;&nbsp;&nbsp;3.3.4 生成式模型的改进<br>\n",
    "&nbsp;&nbsp;&nbsp;&nbsp;3.4 Huggingface入门与调用<br>\n",
    "&nbsp;&nbsp;&nbsp;&nbsp;&nbsp;&nbsp;&nbsp;&nbsp;&nbsp;&nbsp;3.4.1 Huggingface入门与官网使用指南<br>\n",
    "&nbsp;&nbsp;&nbsp;&nbsp;&nbsp;&nbsp;&nbsp;&nbsp;&nbsp;&nbsp;3.4.2 加载并使用预训练模型<br>\n",
    "&nbsp;&nbsp;&nbsp;&nbsp;&nbsp;&nbsp;&nbsp;&nbsp;&nbsp;&nbsp;3.4.3 词嵌入工具与词嵌入模型<br>\n",
    "&nbsp;&nbsp;&nbsp;&nbsp;&nbsp;&nbsp;&nbsp;&nbsp;&nbsp;&nbsp;3.4.4 全流程自动化的Pipelines工具<br>\n",
    "&nbsp;&nbsp;&nbsp;&nbsp;&nbsp;&nbsp;&nbsp;&nbsp;&nbsp;&nbsp;3.4.5 Huggingface中的模型微调<br>\n",
    "&nbsp;&nbsp;&nbsp;&nbsp;3.4 【实战】Transformer的机器翻译案例<br>\n",
    "&nbsp;&nbsp;&nbsp;&nbsp;3.5 【实战】Transformer的时间序列案例<br>"
   ]
  },
  {
   "cell_type": "markdown",
   "id": "2d6fa1cf-8ae5-4fb4-bc4b-28f47b62af77",
   "metadata": {},
   "source": [
    "### 2.3.3 Decoder-Only结构中的Decoder"
   ]
  },
  {
   "cell_type": "markdown",
   "id": "bf245fc2-2fd0-42b3-a54f-86b8a8caee04",
   "metadata": {},
   "source": [
    "现在，让我们来看看Decoder-only结构下的Decoder。在Decoder-only结构下的Decoder是专用于生成式任务的架构，它从整个Transformer结构中抽离出来、有独特的训练流程与结构。我们先从结构来看——\n",
    "\n",
    "<center><img src=\"https://skojiangdoc.oss-cn-beijing.aliyuncs.com/2023DL/transformer/IUCxP.png\" alt=\"描述文字\" width=\"300\">"
   ]
  },
  {
   "cell_type": "code",
   "execution_count": null,
   "id": "47e99753-86df-4f6d-bb72-5f3733a6505b",
   "metadata": {},
   "outputs": [],
   "source": [
    "训练——（teacher forcing - 不会累计错误）\n",
    "\n",
    "这是最好的时代 👉 xxx\n",
    "\n",
    "这是最好的时代，这 👉 xxx\n",
    "\n",
    "这是最好的时代，这是 👉 xxx\n",
    "\n",
    "测试——（autoregressive - 累计错误）\n",
    "\n",
    "这是最坏的时代 👉 xxx\n",
    "\n",
    "这是最坏的时代，xxx 👉 xxx\n",
    "\n",
    "这是最坏的时代，xxxxxx 👉 xxx"
   ]
  },
  {
   "cell_type": "markdown",
   "id": "7929c5c0-97fd-43f6-8ea4-9aa3f0d6dfba",
   "metadata": {},
   "source": [
    "如图所示，与原本的Decoder结构相比，Decoder-only状态下的Decoder不再存在编码器-解码器注意力层，整个结构会变得更像编码器Encoder，但依然保留着Teacher forcing和掩码机制。由于没有了编码器-解码器注意力层，因此原本依赖于编码器-解码器注意力层完成的整套训练和运算流程也都不再有效了，相对的，在Decoder-only结构中的Decoder大部分时候都采用“自回归”的训练流程——自回归流程在时间序列预测中是一种常用的方法，它逐步生成未来的值，每一步的预测依赖于前一步的实际值或预测值，而Decoder-only状态下的训练、预测流程都是这样的流程。**在自回归场景中，Decoder的任务是——**\n",
    "\n",
    "1. **利用序列的前半段预测序列的后半段**，因此Decoder的输入数据是一段时间序列、一段文字，输出的是对未来时间的预测、对未来文字的填补<br><br>\n",
    "\n",
    "2. **利用teacher forcing机制和自回归机制的本质，在训练和预测流程中使用标签来辅助预测**。具体地来说，在训练流程中，Decoder利用teacher forcing机制、不断将正确的标签作为特征数据使用；在测试流程中，Decoder利用自回归的属性，将前一步的预测值作为特征数据来使用。\n",
    "\n",
    "<font color=\"red\">**在生成式任务中，一般我们不再区分“特征和标签”这两种不同的数据，在大多数生成式任务中，我们有且只有一种数据——就是需要继续生成、继续补充的那段序列**</font>。生成式任务带有一定的“自监督”属性，我们训练用的数据、和要预测的数据都来自于同一段序列，因此标签数据在下一个时间步就会成为我们的特征数据，故而我们也不会特地再去区分特征和标签、而是会区分“输入”与“输出”。不过，从架构图上来看，除了要预测的序列本身之外，我们依然也可以给Decoder输入更多额外的信息（图上的inputs部分）。大部分时候，我们可以使用这条数据流线路向Decoder传递一些相应的“条件”与“背景知识”，可以帮助我们更好地进行信息的生成和填补。"
   ]
  },
  {
   "cell_type": "markdown",
   "id": "55393420-7804-4150-be8b-a98d5ea181de",
   "metadata": {},
   "source": [
    "具体来看，Decoder-only状态下的<font color=\"red\">**训练流程**</font>如下，假设需要预测的序列为y，编码好的结果为ebd_y，其中我们取ebd_y的前n个字符作为输入，n个字符后的字符作为标签："
   ]
  },
  {
   "cell_type": "code",
   "execution_count": null,
   "id": "0d42a656-e246-4f89-949f-213e30f2516a",
   "metadata": {},
   "outputs": [],
   "source": [
    "训练——（teacher forcing - 不会累计错误）\n",
    "\n",
    "这是最好的时代 👉 xxx\n",
    "\n",
    "这是最好的时代，这 👉 xxx\n",
    "\n",
    "这是最好的时代，这是 👉 xxx\n",
    "\n",
    "测试——（autoregressive - 累计错误）\n",
    "\n",
    "这是最坏的时代 👉 xxx\n",
    "\n",
    "这是最坏的时代，xxx 👉 xxx\n",
    "\n",
    "这是最坏的时代，xxxxxx 👉 xxx"
   ]
  },
  {
   "cell_type": "markdown",
   "id": "9c3abf58-8888-40b5-af56-ba54716f8d76",
   "metadata": {},
   "source": [
    "- **第1步，输入 ebd_y[0] >> 输出预测标签yhat[0]，对应真实标签y[0]**\n",
    "\n",
    "<table>\n",
    "  <tr>\n",
    "    <td>\n",
    "      <p>输入Decoder<br>序列的前半段</p>\n",
    "      <table style=\"color:red;\">\n",
    "        <tr>\n",
    "          <th>索引</th><th></th><th>y1</th><th>y2</th><th>y3</th><th>y4</th><th>y5</th>\n",
    "        </tr>\n",
    "        <tr>\n",
    "          <td>0</td><td>\"sos\"</td><td>0.1821</td><td>0.4000</td><td>0.2248</td><td>0.4440</td><td>0.7771</td>\n",
    "        </tr>\n",
    "      </table>\n",
    "    </td>\n",
    "    <td><p>预测出</p>➡\n",
    "    </td>\n",
    "    <td>\n",
    "      <p>当前时间步的预测标签yhat</p>\n",
    "      <table>\n",
    "        <tr>\n",
    "          <th>索引</th><th></th><th>y1</th><th>y2</th><th>y3</th><th>y4</th><th>y5</th>\n",
    "        </tr>\n",
    "        <tr>\n",
    "          <td>0</td><td>yyy</td><td>0.5621</td><td>0.8920</td><td>0.7312</td><td>0.2543</td><td>0.1289</td>\n",
    "        </tr>\n",
    "      </table>\n",
    "    </td>\n",
    "    <td><p>对应</p>➡\n",
    "    </td>\n",
    "    <td>\n",
    "      <p>真实标签y<br>序列的后半段</p>\n",
    "      <table>\n",
    "        <tr>\n",
    "          <th>索引</th><th></th>\n",
    "        </tr>\n",
    "        <tr style=\"color:blue;\">\n",
    "          <td>0</td><td>这</td>\n",
    "        </tr>\n",
    "        <tr>\n",
    "          <td>1</td><td>是</td>\n",
    "        </tr>\n",
    "        <tr>\n",
    "          <td>2</td><td>最好的</td>\n",
    "        </tr>\n",
    "        <tr>\n",
    "          <td>3</td><td>时代</td>\n",
    "        </tr>\n",
    "        <tr>\n",
    "          <td>4</td><td>这</td>\n",
    "        </tr>\n",
    "        <tr>\n",
    "          <td>5</td><td>是</td>\n",
    "        </tr>\n",
    "        <tr>\n",
    "          <td>6</td><td>最坏的</td>\n",
    "        </tr>\n",
    "        <tr>\n",
    "          <td>7</td><td>时代</td>\n",
    "        </tr>\n",
    "        <tr>\n",
    "          <td>8</td><td>\"eos\"</td>\n",
    "        </tr>\n",
    "      </table>\n",
    "    </td>\n",
    "  </tr>\n",
    "</table>"
   ]
  },
  {
   "cell_type": "markdown",
   "id": "c7375341-33f5-421f-a4e3-a2b9d712fec6",
   "metadata": {},
   "source": [
    "……\n",
    "- **第n+1步，输入 ebd_y[:n] >> 输出预测标签yhat[n]，对应真实标签y[n]**\n",
    "\n",
    "<table>\n",
    "  <tr>\n",
    "    <td>\n",
    "      <p>输入Decoder<br>序列的前半段</p>\n",
    "      <table style=\"color:red;\">\n",
    "        <tr>\n",
    "          <th>索引</th><th></th><th>y1</th><th>y2</th><th>y3</th><th>y4</th><th>y5</th>\n",
    "        </tr>\n",
    "        <tr>\n",
    "          <td>0</td><td>\"sos\"</td><td>0.1821</td><td>0.4000</td><td>0.2248</td><td>0.4440</td><td>0.7771</td>\n",
    "        </tr>\n",
    "        <tr>\n",
    "          <td>1</td><td>这</td><td>0.1821</td><td>0.4000</td><td>0.2248</td><td>0.4440</td><td>0.7771</td>\n",
    "        </tr>\n",
    "        <tr>\n",
    "          <td>2</td><td>是</td><td>0.1721</td><td>0.5030</td><td>0.8948</td><td>0.2385</td><td>0.0987</td>\n",
    "        </tr>\n",
    "        <tr>\n",
    "          <td>3</td><td>最好的</td><td>0.1342</td><td>0.8297</td><td>0.2978</td><td>0.7120</td><td>0.2565</td>\n",
    "        </tr>\n",
    "        <tr>\n",
    "          <td>4</td><td>时代</td><td>0.1248</td><td>0.5003</td><td>0.7559</td><td>0.4804</td><td>0.2593</td>\n",
    "        </tr>\n",
    "      </table>\n",
    "    </td>\n",
    "    <td><p>预测出</p>➡\n",
    "    </td>\n",
    "    <td>\n",
    "      <p>当前时间步的预测标签yhat</p>\n",
    "      <table>\n",
    "        <tr>\n",
    "          <th>索引</th><th></th><th>y1</th><th>y2</th><th>y3</th><th>y4</th><th>y5</th>\n",
    "        </tr>\n",
    "        <tr>\n",
    "          <td>4</td><td>yyy</td><td>0.5621</td><td>0.8920</td><td>0.7312</td><td>0.2543</td><td>0.1289</td>\n",
    "        </tr>\n",
    "      </table>\n",
    "    </td>\n",
    "    <td><p>对应</p>➡\n",
    "    </td>\n",
    "    <td>\n",
    "    <p>真实标签y<br>序列的后半段</p>\n",
    "      <table>\n",
    "        <tr>\n",
    "          <th>索引</th><th></th>\n",
    "        </tr>\n",
    "        <tr>\n",
    "          <td>0</td><td>这</td>\n",
    "        </tr>\n",
    "        <tr>\n",
    "          <td>1</td><td>是</td>\n",
    "        </tr>\n",
    "        <tr>\n",
    "          <td>2</td><td>最好的</td>\n",
    "        </tr>\n",
    "        <tr>\n",
    "          <td>3</td><td>时代</td>\n",
    "        </tr>\n",
    "        <tr style=\"color:blue;\">\n",
    "          <td>4</td><td>这</td>\n",
    "        </tr>\n",
    "        <tr>\n",
    "          <td>5</td><td>是</td>\n",
    "        </tr>\n",
    "        <tr>\n",
    "          <td>6</td><td>最坏的</td>\n",
    "        </tr>\n",
    "        <tr>\n",
    "          <td>7</td><td>时代</td>\n",
    "        </tr>\n",
    "        <tr>\n",
    "          <td>8</td><td>\"eos\"</td>\n",
    "        </tr>\n",
    "      </table>\n",
    "    </td>\n",
    "  </tr>\n",
    "</table>"
   ]
  },
  {
   "cell_type": "markdown",
   "id": "c8f8505f-2219-4fd0-af41-575dd88a58ab",
   "metadata": {},
   "source": [
    "- **第n+2步，输入 ebd_y[:n+1] >> 输出预测标签yhat[n+1]，对应真实标签y[n+1]**\n",
    "\n",
    "<table>\n",
    "  <tr>\n",
    "    <td>\n",
    "      <p>输入Decoder<br>序列的前半段</p>\n",
    "      <table style=\"color:red;\">\n",
    "        <tr>\n",
    "          <th>索引</th><th></th><th>y1</th><th>y2</th><th>y3</th><th>y4</th><th>y5</th>\n",
    "        </tr>\n",
    "        <tr>\n",
    "          <td>0</td><td>\"sos\"</td><td>0.1821</td><td>0.4000</td><td>0.2248</td><td>0.4440</td><td>0.7771</td>\n",
    "        </tr>\n",
    "        <tr>\n",
    "          <td>1</td><td>这</td><td>0.1821</td><td>0.4000</td><td>0.2248</td><td>0.4440</td><td>0.7771</td>\n",
    "        </tr>\n",
    "        <tr>\n",
    "          <td>2</td><td>是</td><td>0.1721</td><td>0.5030</td><td>0.8948</td><td>0.2385</td><td>0.0987</td>\n",
    "        </tr>\n",
    "        <tr>\n",
    "          <td>3</td><td>最好的</td><td>0.1342</td><td>0.8297</td><td>0.2978</td><td>0.7120</td><td>0.2565</td>\n",
    "        </tr>\n",
    "        <tr>\n",
    "          <td>4</td><td>时代</td><td>0.1248</td><td>0.5003</td><td>0.7559</td><td>0.4804</td><td>0.2593</td>\n",
    "        </tr>\n",
    "        <tr>\n",
    "          <td>5</td><td>这</td><td>0.1821</td><td>0.4000</td><td>0.2248</td><td>0.4440</td><td>0.7771</td>\n",
    "        </tr>\n",
    "      </table>\n",
    "    </td>\n",
    "    <td><p>预测出</p>➡\n",
    "    </td>\n",
    "    <td>\n",
    "      <p>当前时间步的预测标签yhat</p>\n",
    "      <table>\n",
    "        <tr>\n",
    "          <th>索引</th><th></th><th>y1</th><th>y2</th><th>y3</th><th>y4</th><th>y5</th>\n",
    "        </tr>\n",
    "        <tr>\n",
    "          <td>5</td><td>yyy</td><td>0.5621</td><td>0.8920</td><td>0.7312</td><td>0.2543</td><td>0.1289</td>\n",
    "        </tr>\n",
    "      </table>\n",
    "    </td>\n",
    "    <td><p>对应</p>➡\n",
    "    </td>\n",
    "    <td>\n",
    "      <p>真实标签y<br>序列的后半段</p>\n",
    "      <table>\n",
    "        <tr>\n",
    "          <th>索引</th><th></th>\n",
    "        </tr>\n",
    "        <tr>\n",
    "          <td>0</td><td>这</td>\n",
    "        </tr>\n",
    "        <tr>\n",
    "          <td>1</td><td>是</td>\n",
    "        </tr>\n",
    "        <tr>\n",
    "          <td>2</td><td>最好的</td>\n",
    "        </tr>\n",
    "        <tr>\n",
    "          <td>3</td><td>时代</td>\n",
    "        </tr>\n",
    "        <tr>\n",
    "          <td>4</td><td>这</td>\n",
    "        </tr>\n",
    "        <tr style=\"color:blue;\">\n",
    "          <td>5</td><td>是</td>\n",
    "        </tr>\n",
    "        <tr>\n",
    "          <td>6</td><td>最坏的</td>\n",
    "        </tr>\n",
    "        <tr>\n",
    "          <td>7</td><td>时代</td>\n",
    "        </tr>\n",
    "        <tr>\n",
    "          <td>8</td><td>\"eos\"</td>\n",
    "        </tr>\n",
    "      </table>\n",
    "    </td>\n",
    "  </tr>\n",
    "</table>"
   ]
  },
  {
   "cell_type": "markdown",
   "id": "91de99e9-414a-4af6-b555-01e0266a94f3",
   "metadata": {},
   "source": [
    "- **第n+3步，输入 ebd_y[:n+2] >> 输出预测标签yhat[n+2]，对应真实标签y[n+2]**\n",
    "\n",
    "<table>\n",
    "  <tr>\n",
    "    <td>\n",
    "      <p>输入Decoder<br>序列的前半段</p>\n",
    "      <table style=\"color:red;\">\n",
    "        <tr>\n",
    "          <th>索引</th><th></th><th>y1</th><th>y2</th><th>y3</th><th>y4</th><th>y5</th>\n",
    "        </tr>\n",
    "        <tr>\n",
    "          <td>0</td><td>\"sos\"</td><td>0.1821</td><td>0.4000</td><td>0.2248</td><td>0.4440</td><td>0.7771</td>\n",
    "        </tr>\n",
    "        <tr>\n",
    "          <td>1</td><td>这</td><td>0.1821</td><td>0.4000</td><td>0.2248</td><td>0.4440</td><td>0.7771</td>\n",
    "        </tr>\n",
    "        <tr>\n",
    "          <td>2</td><td>是</td><td>0.1721</td><td>0.5030</td><td>0.8948</td><td>0.2385</td><td>0.0987</td>\n",
    "        </tr>\n",
    "        <tr>\n",
    "          <td>3</td><td>最好的</td><td>0.1342</td><td>0.8297</td><td>0.2978</td><td>0.7120</td><td>0.2565</td>\n",
    "        </tr>\n",
    "        <tr>\n",
    "          <td>4</td><td>时代</td><td>0.1248</td><td>0.5003</td><td>0.7559</td><td>0.4804</td><td>0.2593</td>\n",
    "        </tr>\n",
    "        <tr>\n",
    "          <td>5</td><td>这</td><td>0.1821</td><td>0.4000</td><td>0.2248</td><td>0.4440</td><td>0.7771</td>\n",
    "        </tr>\n",
    "        <tr>\n",
    "          <td>6</td><td>是</td><td>0.1721</td><td>0.5030</td><td>0.8948</td><td>0.2385</td><td>0.0987</td>\n",
    "        </tr>\n",
    "      </table>\n",
    "    </td>\n",
    "    <td><p>预测出</p>➡\n",
    "    </td>\n",
    "    <td>\n",
    "      <p>当前时间步的预测标签yhat</p>\n",
    "      <table>\n",
    "        <tr>\n",
    "          <th>索引</th><th></th><th>y1</th><th>y2</th><th>y3</th><th>y4</th><th>y5</th>\n",
    "        </tr>\n",
    "        <tr>\n",
    "          <td>6</td><td>yyy</td><td>0.5621</td><td>0.8920</td><td>0.7312</td><td>0.2543</td><td>0.1289</td>\n",
    "        </tr>\n",
    "      </table>\n",
    "    </td>\n",
    "    <td><p>对应</p>➡\n",
    "    </td>\n",
    "    <td>\n",
    "      <p>真实标签y<br>序列的后半段</p>\n",
    "      <table>\n",
    "        <tr>\n",
    "          <th>索引</th><th></th>\n",
    "        </tr>\n",
    "        <tr>\n",
    "          <td>0</td><td>这</td>\n",
    "        </tr>\n",
    "        <tr>\n",
    "          <td>1</td><td>是</td>\n",
    "        </tr>\n",
    "        <tr>\n",
    "          <td>2</td><td>最好的</td>\n",
    "        </tr>\n",
    "        <tr>\n",
    "          <td>3</td><td>时代</td>\n",
    "        </tr>\n",
    "        <tr>\n",
    "          <td>4</td><td>这</td>\n",
    "        </tr>\n",
    "        <tr>\n",
    "          <td>5</td><td>是</td>\n",
    "        </tr>\n",
    "        <tr style=\"color:blue;\">\n",
    "          <td>6</td><td>最坏的</td>\n",
    "        </tr>\n",
    "        <tr>\n",
    "          <td>7</td><td>时代</td>\n",
    "        </tr>\n",
    "        <tr>\n",
    "          <td>8</td><td>\"eos\"</td>\n",
    "        </tr>\n",
    "      </table>\n",
    "    </td>\n",
    "  </tr>\n",
    "</table>"
   ]
  },
  {
   "cell_type": "markdown",
   "id": "e092589b-b970-42ad-9685-97e95dfaa42c",
   "metadata": {},
   "source": [
    "而在<font color=\"red\">**推理流程**</font>中，Decoder中运行的流程如下所示——"
   ]
  },
  {
   "cell_type": "markdown",
   "id": "15fbe0a6-d8d3-44fe-984a-209601aed886",
   "metadata": {},
   "source": [
    "- **第一步，输入 ebd_y（全部的数据） >> 输出下一步的预测标签**\n",
    "\n",
    "<table>\n",
    "  <tr>\n",
    "    <td>\n",
    "      <p>输入Decoder<br>全部的序列</p>\n",
    "      <table style=\"color:red;\">\n",
    "        <tr>\n",
    "          <th>索引</th><th></th><th>y1</th><th>y2</th><th>y3</th><th>y4</th><th>y5</th>\n",
    "        </tr>\n",
    "        <tr>\n",
    "          <td>0</td><td>这</td><td>0.1821</td><td>0.4000</td><td>0.2248</td><td>0.4440</td><td>0.7771</td>\n",
    "        </tr>\n",
    "        <tr>\n",
    "          <td>1</td><td>是</td><td>0.1721</td><td>0.5030</td><td>0.8948</td><td>0.2385</td><td>0.0987</td>\n",
    "        </tr>\n",
    "        <tr>\n",
    "          <td>2</td><td>最好的</td><td>0.1342</td><td>0.8297</td><td>0.2978</td><td>0.7120</td><td>0.2565</td>\n",
    "        </tr>\n",
    "        <tr>\n",
    "          <td>3</td><td>时代</td><td>0.1248</td><td>0.5003</td><td>0.7559</td><td>0.4804</td><td>0.2593</td>\n",
    "        </tr>\n",
    "      </table>\n",
    "    </td>\n",
    "    <td><p>预测出</p>➡\n",
    "    </td>\n",
    "    <td>\n",
    "      <p>当前时间步的预测标签yhat</p>\n",
    "      <table>\n",
    "        <tr>\n",
    "          <th>索引</th><th></th><th>y1</th><th>y2</th><th>y3</th><th>y4</th><th>y5</th>\n",
    "        </tr>\n",
    "        <tr>\n",
    "          <td>4</td><td>yyy</td><td>0.5621</td><td>0.8920</td><td>0.7312</td><td>0.2543</td><td>0.1289</td>\n",
    "        </tr>\n",
    "      </table>\n",
    "    </td>\n",
    "  </tr>\n",
    "</table>"
   ]
  },
  {
   "cell_type": "markdown",
   "id": "c5d3bbf8-ed5a-434c-a6f3-b499bccffdaa",
   "metadata": {},
   "source": [
    "- **第二步，输入 ebd_y（全部的数据）+ 预测的yhat >> 输出下一步的预测标签**\n",
    "\n",
    "<table>\n",
    "  <tr>\n",
    "    <td>\n",
    "      <p>输入Decoder<br>全部的序列</p>\n",
    "      <table style=\"color:red;\">\n",
    "        <tr>\n",
    "          <th>索引</th><th></th><th>y1</th><th>y2</th><th>y3</th><th>y4</th><th>y5</th>\n",
    "        </tr>\n",
    "        <tr>\n",
    "          <td>0</td><td>这</td><td>0.1821</td><td>0.4000</td><td>0.2248</td><td>0.4440</td><td>0.7771</td>\n",
    "        </tr>\n",
    "        <tr>\n",
    "          <td>1</td><td>是</td><td>0.1721</td><td>0.5030</td><td>0.8948</td><td>0.2385</td><td>0.0987</td>\n",
    "        </tr>\n",
    "        <tr>\n",
    "          <td>2</td><td>最好的</td><td>0.1342</td><td>0.8297</td><td>0.2978</td><td>0.7120</td><td>0.2565</td>\n",
    "        </tr>\n",
    "        <tr>\n",
    "          <td>3</td><td>时代</td><td>0.1248</td><td>0.5003</td><td>0.7559</td><td>0.4804</td><td>0.2593</td>\n",
    "        </tr>\n",
    "        <tr>\n",
    "          <td>4</td><td>yyy</td><td>0.5621</td><td>0.8920</td><td>0.7312</td><td>0.2543</td><td>0.1289</td>\n",
    "        </tr>\n",
    "      </table>\n",
    "    </td>\n",
    "    <td><p>预测出</p>➡\n",
    "    </td>\n",
    "    <td>\n",
    "      <p>当前时间步的预测标签yhat</p>\n",
    "      <table>\n",
    "        <tr>\n",
    "          <th>索引</th><th></th><th>y1</th><th>y2</th><th>y3</th><th>y4</th><th>y5</th>\n",
    "        </tr>\n",
    "        <tr>\n",
    "          <td>5</td><td>yyy</td><td>0.5621</td><td>0.8920</td><td>0.7312</td><td>0.2543</td><td>0.1289</td>\n",
    "        </tr>\n",
    "      </table>\n",
    "    </td>\n",
    "  </tr>\n",
    "</table>"
   ]
  },
  {
   "cell_type": "markdown",
   "id": "a247ca7e-65ca-4538-85fd-ff5f0f93b00d",
   "metadata": {},
   "source": [
    "- **第三步，输入 ebd_y（全部的数据）+ 预测的yhat >> 输出下一步的预测标签**\n",
    "\n",
    "<table>\n",
    "  <tr>\n",
    "    <td>\n",
    "      <p>输入Decoder<br>全部的序列</p>\n",
    "      <table style=\"color:red;\">\n",
    "        <tr>\n",
    "          <th>索引</th><th></th><th>y1</th><th>y2</th><th>y3</th><th>y4</th><th>y5</th>\n",
    "        </tr>\n",
    "        <tr>\n",
    "          <td>0</td><td>这</td><td>0.1821</td><td>0.4000</td><td>0.2248</td><td>0.4440</td><td>0.7771</td>\n",
    "        </tr>\n",
    "        <tr>\n",
    "          <td>1</td><td>是</td><td>0.1721</td><td>0.5030</td><td>0.8948</td><td>0.2385</td><td>0.0987</td>\n",
    "        </tr>\n",
    "        <tr>\n",
    "          <td>2</td><td>最好的</td><td>0.1342</td><td>0.8297</td><td>0.2978</td><td>0.7120</td><td>0.2565</td>\n",
    "        </tr>\n",
    "        <tr>\n",
    "          <td>3</td><td>时代</td><td>0.1248</td><td>0.5003</td><td>0.7559</td><td>0.4804</td><td>0.2593</td>\n",
    "        </tr>\n",
    "        <tr>\n",
    "          <td>4</td><td>yyy</td><td>0.5621</td><td>0.8920</td><td>0.7312</td><td>0.2543</td><td>0.1289</td>\n",
    "        </tr>\n",
    "        <tr>\n",
    "          <td>5</td><td>yyy</td><td>0.5621</td><td>0.8920</td><td>0.7312</td><td>0.2543</td><td>0.1289</td>\n",
    "        </tr>\n",
    "      </table>\n",
    "    </td>\n",
    "    <td><p>预测出</p>➡\n",
    "    </td>\n",
    "    <td>\n",
    "      <p>当前时间步的预测标签yhat</p>\n",
    "      <table>\n",
    "        <tr>\n",
    "          <th>索引</th><th></th><th>y1</th><th>y2</th><th>y3</th><th>y4</th><th>y5</th>\n",
    "        </tr>\n",
    "        <tr>\n",
    "          <td>6</td><td>yyy</td><td>0.5621</td><td>0.8920</td><td>0.7312</td><td>0.2543</td><td>0.1289</td>\n",
    "        </tr>\n",
    "      </table>\n",
    "    </td>\n",
    "  </tr>\n",
    "</table>"
   ]
  },
  {
   "cell_type": "markdown",
   "id": "06f64532-2669-4a0b-9f0c-778712025616",
   "metadata": {},
   "source": [
    "以此类推，直到预测出“eos”后停止。**与Transformer中的Decoder一致，训练流程是可以并行的，这一点通过带掩码的注意力机制来实现**。而推理流程是必须严格遵守自回归要求的、在下一个时间步预测之前必须将上一个时间步的结果计算出来，因此**推理流程中则需要使用循环的方式**来进行预测。"
   ]
  },
  {
   "cell_type": "markdown",
   "id": "c4e0c502-c4ff-458a-bab6-30db4f9c9803",
   "metadata": {},
   "source": [
    "- **不从第一个样本开始训练的流程如何实现？**"
   ]
  },
  {
   "cell_type": "markdown",
   "id": "08ae610b-2fd3-4438-b053-60f39c22ac0e",
   "metadata": {},
   "source": [
    "<center><img src=\"https://skojiangdoc.oss-cn-beijing.aliyuncs.com/2023DL/transformer/IUCxP.png\" alt=\"描述文字\" width=\"300\">"
   ]
  },
  {
   "cell_type": "markdown",
   "id": "68ff03e5-aa67-474e-a018-f6d24f5dd11a",
   "metadata": {},
   "source": [
    "从Decoder的掩码注意力层中输出的是经过掩码后、每一行只携带特定时间段信息的结果$C_{decoder}$：\n",
    "\n",
    "$$\n",
    "C_{decoder} = \\begin{bmatrix}\n",
    "a_{11}v_{1} & a_{11}v_{1} & \\ldots & a_{11}v_{1} \\\\\n",
    "a_{21}v_{1} + a_{22}v_{2} & a_{21}v_{1} + a_{22}v_{2} & \\ldots & a_{21}v_{1} + a_{22}v_{2} \\\\\n",
    "a_{31}v_{1} + a_{32}v_{2} + a_{33}v_{3} & a_{31}v_{1} + a_{32}v_{2} + a_{33}v_{3} & \\ldots & a_{31}v_{1} + a_{32}v_{2} + a_{33}v_{3} \\\\\n",
    "a_{41}v_{1} + a_{42}v_{2} + a_{43}v_{3} + a_{44}v_{4} & a_{41}v_{1} + a_{42}v_{2} + a_{43}v_{3} + a_{44}v_{4} & \\ldots & a_{41}v_{1} + a_{42}v_{2} + a_{43}v_{2} + a_{44}v_{4}\n",
    "\\end{bmatrix}\n",
    "$$"
   ]
  },
  {
   "cell_type": "markdown",
   "id": "b5e28764-ccd5-402f-abbc-72ab1f583918",
   "metadata": {},
   "source": [
    "**当我们使用覆盖的时间点来作为脚标**，则有：\n",
    "\n",
    "$$\n",
    "C_{decoder} = \\begin{bmatrix}\n",
    "c_{1} & c_{1} & \\ldots & c_{1} \\\\\n",
    "c_{1 \\to 2} & c_{1 \\to 2} & \\ldots & c_{1 \\to 2} \\\\\n",
    "c_{1 \\to 3} & c_{1 \\to 3} & \\ldots & c_{1 \\to 3} \\\\\n",
    "c_{1 \\to 4} & c_{1 \\to 4} & \\ldots & c_{1 \\to 4}\n",
    "\\end{bmatrix}\n",
    "$$\n",
    "\n",
    "<font color=\"red\">**同样的，这里出于教学目的，省略了特征维度上的脚标。现在你所看到的脚标只代表时间维度/序列长度的维度。**"
   ]
  },
  {
   "cell_type": "markdown",
   "id": "e4b99174-b94c-4ee9-8b5c-9f7c884ab637",
   "metadata": {},
   "source": [
    "此时你会发现，我们必须从单词1开始预测，其流程为：\n",
    "\n",
    "> 单词1 用于预测 单词2<br><br>\n",
    "> 单词1、2 用于预测 单词3<br><br>\n",
    "> 单词1、2、3 用于预测 单词4"
   ]
  },
  {
   "cell_type": "markdown",
   "id": "fcc29be0-1f7c-4a98-a576-1dde7699fdc4",
   "metadata": {},
   "source": [
    "但事实上，在生成式的例子中，我们可能会倾向于一开始就给与比较多的信息。我们真正要做的是“利用句子的前半段”去预测“句子的后半段”，大部分时候我们其实很少使用简单的几个单词、或1个单词来进行训练。而是倾向于使用下面的流程——\n",
    "\n",
    "> 单词1:n 用于预测 单词n+1<br><br>\n",
    "> 单词1:n+1 用于预测 单词n+2<br><br>\n",
    "> 单词1:n+2 用于预测 单词n+3"
   ]
  },
  {
   "cell_type": "markdown",
   "id": "08449ba8-4922-4b29-80c7-a2e6e69db3fa",
   "metadata": {},
   "source": [
    "如果要实现上面的流程，可以怎么做呢？可以通过移动前瞻掩码矩阵的对角线来实现——"
   ]
  },
  {
   "cell_type": "code",
   "execution_count": 85,
   "id": "c6325efc-c17b-472d-9afd-aa7c891649b0",
   "metadata": {},
   "outputs": [],
   "source": [
    "import torch\n",
    "\n",
    "def create_look_ahead_mask(seq_len, start_seq = 1):\n",
    "    mask = torch.triu(torch.ones((seq_len, seq_len)),diagonal=start_seq)  # triu 左下方的三角矩阵，diagonal控制对角线位置\n",
    "    #mask = mask.float() * -1e9  # 将未来的位置设置为负无穷大\n",
    "    return mask"
   ]
  },
  {
   "cell_type": "code",
   "execution_count": 90,
   "id": "48dd249f-98db-49bb-9ab9-26ce8fe3a414",
   "metadata": {},
   "outputs": [
    {
     "data": {
      "text/plain": [
       "tensor([[0., 1., 1., 1., 1., 1., 1., 1., 1., 1.],\n",
       "        [0., 0., 1., 1., 1., 1., 1., 1., 1., 1.],\n",
       "        [0., 0., 0., 1., 1., 1., 1., 1., 1., 1.],\n",
       "        [0., 0., 0., 0., 1., 1., 1., 1., 1., 1.],\n",
       "        [0., 0., 0., 0., 0., 1., 1., 1., 1., 1.],\n",
       "        [0., 0., 0., 0., 0., 0., 1., 1., 1., 1.],\n",
       "        [0., 0., 0., 0., 0., 0., 0., 1., 1., 1.],\n",
       "        [0., 0., 0., 0., 0., 0., 0., 0., 1., 1.],\n",
       "        [0., 0., 0., 0., 0., 0., 0., 0., 0., 1.],\n",
       "        [0., 0., 0., 0., 0., 0., 0., 0., 0., 0.]])"
      ]
     },
     "execution_count": 90,
     "metadata": {},
     "output_type": "execute_result"
    }
   ],
   "source": [
    "create_look_ahead_mask(10) #为了教学方便，现在展示的是1和0，实际应该是右上角负无穷，左下角0"
   ]
  },
  {
   "cell_type": "code",
   "execution_count": 87,
   "id": "1cfd9e72-c84f-46a1-b120-fdc9e6b5bcc5",
   "metadata": {},
   "outputs": [
    {
     "data": {
      "text/plain": [
       "tensor([[0., 0., 0., 0., 1., 1., 1., 1., 1., 1.],\n",
       "        [0., 0., 0., 0., 0., 1., 1., 1., 1., 1.],\n",
       "        [0., 0., 0., 0., 0., 0., 1., 1., 1., 1.],\n",
       "        [0., 0., 0., 0., 0., 0., 0., 1., 1., 1.],\n",
       "        [0., 0., 0., 0., 0., 0., 0., 0., 1., 1.],\n",
       "        [0., 0., 0., 0., 0., 0., 0., 0., 0., 1.],\n",
       "        [0., 0., 0., 0., 0., 0., 0., 0., 0., 0.],\n",
       "        [0., 0., 0., 0., 0., 0., 0., 0., 0., 0.],\n",
       "        [0., 0., 0., 0., 0., 0., 0., 0., 0., 0.],\n",
       "        [0., 0., 0., 0., 0., 0., 0., 0., 0., 0.]])"
      ]
     },
     "execution_count": 87,
     "metadata": {},
     "output_type": "execute_result"
    }
   ],
   "source": [
    "create_look_ahead_mask(10,start_seq=4) #通过调节对角线，可以让掩码的区域缩小，从而可以允许更多信息的注入"
   ]
  },
  {
   "cell_type": "markdown",
   "id": "c2a516d4-ce4c-4076-9105-0a2185383bdc",
   "metadata": {},
   "source": [
    "当前瞻掩码从第一个时间步开始时，掩码注意力层输出的结果覆盖的时间步为：\n",
    "\n",
    "$$\n",
    "C_{decoder} = \\begin{bmatrix}\n",
    "c_{1} & c_{1} & \\ldots & c_{1} \\\\\n",
    "c_{1 \\to 2} & c_{1 \\to 2} & \\ldots & c_{1 \\to 2} \\\\\n",
    "c_{1 \\to 3} & c_{1 \\to 3} & \\ldots & c_{1 \\to 3} \\\\\n",
    "c_{1 \\to 4} & c_{1 \\to 4} & \\ldots & c_{1 \\to 4}\n",
    "\\end{bmatrix}\n",
    "$$"
   ]
  },
  {
   "cell_type": "markdown",
   "id": "d40c65bd-3883-4cc0-aa83-cbed3128dc79",
   "metadata": {},
   "source": [
    "当前瞻掩码从第4个时间步开始时，掩码注意力层输出的结果覆盖的时间步为：\n",
    "\n",
    "$$\n",
    "C_{decoder} = \\begin{bmatrix}\n",
    "c_{1 \\to 4} & c_{1 \\to 4} & \\ldots & c_{1 \\to 4} \\\\\n",
    "c_{1 \\to 5} & c_{1 \\to 5} & \\ldots & c_{1 \\to 5} \\\\\n",
    "c_{1 \\to 6} & c_{1 \\to 6} & \\ldots & c_{1 \\to 6} \\\\\n",
    "c_{1 \\to 7} & c_{1 \\to 7} & \\ldots & c_{1 \\to 7}\n",
    "\\end{bmatrix}\n",
    "$$"
   ]
  },
  {
   "cell_type": "markdown",
   "id": "917ef92b-ac88-4270-87c9-5c15641e0710",
   "metadata": {},
   "source": [
    "这样可以第一次预测过程中所使用的标签为“前n个字”而不是“第一个字”。当然，这已经是属于“自定义掩码”的范围，在实际中并不多见。但通过这种掩码方式，可以要求解码器产出的注意力分数完整接收前几个字之间的相互关系、从而一开始就使用“前半段话”来进行训练。在之后实现Decoder-only预测的过程中，我们将会更详细地讲解这个流程。"
   ]
  },
  {
   "cell_type": "markdown",
   "id": "13c2455a-c0bd-4d09-ad22-ebccb4516cc3",
   "metadata": {},
   "source": [
    "在探索了Transformer模型的全貌之后，我们可以看到这一架构之所以在自然语言处理和其他序列处理任务中表现卓越，归功于其创新的设计和高效的信息处理能力。从自注意力机制到编码器和解码器的层叠结构，每一部分都精心设计以最大化上下文信息的利用，并提高计算的并行性。Transformer不仅改变了我们处理文本的方式，也为机器学习领域提供了一种强大的工具，用以解决一系列复杂的序列建模问题。\n",
    "\n",
    "自注意力机制使模型能够灵活地捕捉序列内的长距离依赖，而无需依赖于递归网络结构，从而避免了梯度消失和计算效率低下的问题。编码器层通过逐层处理输入数据，有效地提取和聚合信息；而解码器层则利用编码器的输出，结合自回归的方式逐步构建输出序列。通过这种方式，Transformer能够在翻译、文本生成、摘要等任务中生成准确且连贯的文本。\n",
    "\n",
    "此外，编码器-解码器注意力机制是理解输入与输出之间复杂关系的关键，它使得模型能够在生成每个输出时都考虑到与输入序列的具体关联。这种能力使得Transformer不仅适用于传统的NLP任务，还可以扩展到如图像处理和多模态任务中，展示了其极大的灵活性和广泛的适用性。\n",
    "\n",
    "总的来说，Transformer的出现标志着深度学习在处理序列数据方面的一个重大进步。随着研究的深入和技术的发展，我们期待看到更多基于Transformer的创新应用，这将进一步推动人工智能领域的边界向前发展。"
   ]
  },
  {
   "cell_type": "markdown",
   "id": "3758b27c-8eb7-4508-afab-84e3f5d0f1e7",
   "metadata": {},
   "source": [
    "### 3.3.1 数据导入与数据预处理"
   ]
  },
  {
   "cell_type": "markdown",
   "id": "f43f55f9-c7b8-44d8-93a7-78e3b7781f49",
   "metadata": {},
   "source": [
    "> 数据导入"
   ]
  },
  {
   "cell_type": "code",
   "execution_count": 1,
   "id": "6fe9158c-2cc1-4009-9ec3-b31ff8b1f7a0",
   "metadata": {},
   "outputs": [],
   "source": [
    "import torch\n",
    "import torch.nn as nn\n",
    "import torch.nn.functional as F\n",
    "import pandas as pd\n",
    "import numpy as np\n",
    "import jieba\n",
    "import os\n",
    "import re\n",
    "from collections import defaultdict, Counter"
   ]
  },
  {
   "cell_type": "code",
   "execution_count": 2,
   "id": "698c08a9-4201-4d06-a682-1a39fcb84ecd",
   "metadata": {},
   "outputs": [],
   "source": [
    "def read_file(file_path):\n",
    "    data = []\n",
    "    with open(file_path, 'r', encoding='utf-8') as file:\n",
    "        for line in file:\n",
    "            parts = line.strip().split('\\t')\n",
    "            if len(parts) == 2:\n",
    "                label, content = parts\n",
    "                data.append(content) #只要content，不要label\n",
    "    return data\n",
    "\n",
    "import numpy as np\n",
    "class calculate_stats:\n",
    "    def __init__(self,data):\n",
    "        self.total_samples = len(data)\n",
    "        self.len_ = []\n",
    "        for content in data:\n",
    "            self.len_.append(len(content))\n",
    "\n",
    "        self.lower_quartile = np.percentile(self.len_, 25)\n",
    "        self.median = np.median(self.len_)\n",
    "        self.upper_quartile = np.percentile(self.len_, 75)\n",
    "        self.percentile_90 = np.percentile(self.len_, 90)\n",
    "\n",
    "    def stats(self):\n",
    "        # 输出结果\n",
    "        print(f\"总字数: {sum(self.len_)}\")\n",
    "        print(f\"样本数量: {self.total_samples}\")\n",
    "        print(f\"平均每篇文章的字数: {sum(self.len_)/self.total_samples}\")\n",
    "        print(f\"最长句子的字数:{max(self.len_)}\")\n",
    "        print(f\"最短句子的字数:{min(self.len_)}\")\n",
    "        print(f\"句子长度的25%分位数:{self.lower_quartile}\")\n",
    "        print(f\"句子长度的50%分位数:{self.median}\")\n",
    "        print(f\"句子长度的75%分位数:{self.upper_quartile}\")\n",
    "        print(f\"句子长度的90%分位数:{self.percentile_90}\")"
   ]
  },
  {
   "cell_type": "code",
   "execution_count": 3,
   "id": "b2317d80-d1c1-4bba-aa20-a9e4d2c74015",
   "metadata": {},
   "outputs": [],
   "source": [
    "PATH = r'DLdata/'"
   ]
  },
  {
   "cell_type": "code",
   "execution_count": 4,
   "id": "31e67267-1468-40cb-801a-e0c2ff13f2a3",
   "metadata": {},
   "outputs": [],
   "source": [
    "train_data = pd.read_csv(os.path.join(PATH,\"cnews.train.txt\")\n",
    "                         , sep=\"\\t\", names = [\"label\",\"content\"])"
   ]
  },
  {
   "cell_type": "code",
   "execution_count": 5,
   "id": "ab00c9c0-e94b-4999-a199-3fdb7a7f7780",
   "metadata": {},
   "outputs": [
    {
     "name": "stderr",
     "output_type": "stream",
     "text": [
      "/tmp/ipykernel_1243/2812097312.py:3: DeprecationWarning: DataFrameGroupBy.apply operated on the grouping columns. This behavior is deprecated, and in a future version of pandas the grouping columns will be excluded from the operation. Either pass `include_groups=False` to exclude the groupings or explicitly select the grouping columns after groupby to silence this warning.\n",
      "  sampled_df = train_data.groupby('label').apply(lambda x: x.sample(n=2000)).reset_index(drop=True)\n"
     ]
    },
    {
     "name": "stdout",
     "output_type": "stream",
     "text": [
      "Sampled data saved to DLdata/cnews_train_sampled_2000.txt\n"
     ]
    }
   ],
   "source": [
    "# 随机抽样 - 训练集\n",
    "np.random.seed(1412)\n",
    "sampled_df = train_data.groupby('label').apply(lambda x: x.sample(n=2000)).reset_index(drop=True)\n",
    "\n",
    "# 保存为txt文件\n",
    "output_file_path = os.path.join(PATH,\"cnews_train_sampled_2000.txt\")\n",
    "with open(output_file_path, 'w', encoding='utf-8') as f:\n",
    "    for index, row in sampled_df.iterrows():\n",
    "        f.write(f\"{row['label']}\\t{row['content']}\\n\")\n",
    "\n",
    "print(f\"Sampled data saved to {output_file_path}\")"
   ]
  },
  {
   "cell_type": "code",
   "execution_count": 6,
   "id": "64385eca-f358-4cc0-9e52-43bdf8d22d16",
   "metadata": {},
   "outputs": [],
   "source": [
    "# 读取数据\n",
    "file_path = r\"DLdata/cnews_train_sampled_2000.txt\"\n",
    "\n",
    "# 读取数据\n",
    "data = read_file(file_path)"
   ]
  },
  {
   "cell_type": "code",
   "execution_count": 7,
   "id": "7b7f9838-43d0-4f77-a38a-7c19d5def9a8",
   "metadata": {},
   "outputs": [
    {
     "name": "stdout",
     "output_type": "stream",
     "text": [
      "First 2 samples: ['新浪正在视频直播尼克斯vs魔术 魔兽小斯强强对话新浪体育讯12月31日8:00，新浪体育将为您视频直播魔术主场迎战尼克斯的比赛。摆脱了赛季初的低迷之后，尼克斯打出14胜1负战绩，最近他们在圣诞大战中又战胜了公牛，不过随后一战却再次被热火打败。如今尼克斯两胜公牛，两败于凯尔特人和热火，东部四强中只有魔术还没交手，两队在11月3日曾被安排一战，但是因故未能进行，急欲给自己加盖强队标签的尼克斯会在这场迟来的比赛中全力以赴。而最近4连胜的魔术也想在这场比赛中一试牛刀，连胜凯尔特人马刺的他们，何惧尼克斯？(新体)[视频直播室] [视频直播室-教育网专用] [图文直播室]', '弗老大同意终止合同 高层确认为球队利益让他离去新浪体育讯北京时间12月27日，来自新华网英文版消息，在经历了两周的效力之后，弗朗西斯决定离开北京队，俱乐部高层对此也做了确认。北京队助理教练袁超对新华社说，“弗朗西斯下午来到首钢体育馆，告诉球队，他已经决定离开了。”33岁的弗朗西斯在上一轮对阵江苏队的比赛中，没有能出场，他在中场休息时间无故离开了更衣室。在赛后的新闻发布会上，闵鹿蕾确认了弗朗西斯中场离开的消息，并且说“这是我第一次看到有球员在比赛期间离开的。”闵鹿蕾的一番话，更加加剧了弗朗西斯离开北京队的可能性，而且他在25号缺席了球队的训练，原因是要和家里人度过圣诞节，他在接受采访时候表示：“我没有无故不训练，我给教练打过招呼了，他也答应了。”袁超在接受新华社采访时候，终于说出了今天谈判的进展，“我今天早上和弗朗西斯谈了谈关于他中场离开和圣诞节不训练的事儿，我告诉他，为了球队的利益，我们想让他离开。当时他在会谈中没有给我一个明确的答复。”“但是，当他下午出现在首钢训练馆中的时候，他说他已经准备好要离开了。”袁超说。无论北京俱乐部还是弗朗西斯，都希望双方有个圆满的结局。过去的两周，弗朗西斯一共为北京打了4场比赛，场均3分钟内得到0.5分，0.7个篮板，这和昔日的三次NBA全明星队员相比，确实相差甚远。俱乐部做出这样的决定，或许对双方都有好处。(FRANK)']\n"
     ]
    }
   ],
   "source": [
    "# 查看前2个样本\n",
    "print(f\"First 2 samples: {data[:2]}\")"
   ]
  },
  {
   "cell_type": "code",
   "execution_count": 8,
   "id": "977ea874-cfbb-4198-bf67-b900ca5cb847",
   "metadata": {},
   "outputs": [
    {
     "data": {
      "text/plain": [
       "20000"
      ]
     },
     "execution_count": 8,
     "metadata": {},
     "output_type": "execute_result"
    }
   ],
   "source": [
    "data.__len__()"
   ]
  },
  {
   "cell_type": "code",
   "execution_count": 9,
   "id": "813c75f5-d958-44c0-b9af-2e417516092d",
   "metadata": {},
   "outputs": [],
   "source": [
    "# 计算总字符数和样本数\n",
    "cal = calculate_stats(data)"
   ]
  },
  {
   "cell_type": "code",
   "execution_count": 10,
   "id": "3d700efe-c8e4-437e-86f0-a6850682420c",
   "metadata": {},
   "outputs": [
    {
     "name": "stdout",
     "output_type": "stream",
     "text": [
      "总字数: 18272972\n",
      "样本数量: 20000\n",
      "平均每篇文章的字数: 913.6486\n",
      "最长句子的字数:27467\n",
      "最短句子的字数:14\n",
      "句子长度的25%分位数:345.0\n",
      "句子长度的50%分位数:682.0\n",
      "句子长度的75%分位数:1150.25\n",
      "句子长度的90%分位数:1894.0\n"
     ]
    }
   ],
   "source": [
    "cal.stats()"
   ]
  },
  {
   "cell_type": "markdown",
   "id": "4dd64ece-11a6-4c36-ace3-d4b6056d72eb",
   "metadata": {},
   "source": [
    "> 句子分割"
   ]
  },
  {
   "cell_type": "code",
   "execution_count": 11,
   "id": "dee4d3fd-6f09-436e-8fd6-cc52d6797f67",
   "metadata": {},
   "outputs": [],
   "source": [
    "import jieba\n",
    "import jieba.posseg as pseg\n",
    "\n",
    "def sentence_split(text):\n",
    "    sentence_separators = ['。', '！', '？', '；', '…', '：','”',' ',]\n",
    "    sentences = []\n",
    "    start = 0\n",
    "    for i, char in enumerate(text):\n",
    "        if char in sentence_separators:\n",
    "            sentences.append(text[start:i + 1])\n",
    "            start = i + 1\n",
    "    if start < len(text):\n",
    "        sentences.append(text[start:])\n",
    "    return sentences"
   ]
  },
  {
   "cell_type": "code",
   "execution_count": 12,
   "id": "40e6918e-c8d9-4d5d-831a-b0d461946902",
   "metadata": {},
   "outputs": [
    {
     "data": {
      "text/plain": [
       "['新浪正在视频直播尼克斯vs魔术 ',\n",
       " '魔兽小斯强强对话新浪体育讯12月31日8:00，新浪体育将为您视频直播魔术主场迎战尼克斯的比赛。',\n",
       " '摆脱了赛季初的低迷之后，尼克斯打出14胜1负战绩，最近他们在圣诞大战中又战胜了公牛，不过随后一战却再次被热火打败。',\n",
       " '如今尼克斯两胜公牛，两败于凯尔特人和热火，东部四强中只有魔术还没交手，两队在11月3日曾被安排一战，但是因故未能进行，急欲给自己加盖强队标签的尼克斯会在这场迟来的比赛中全力以赴。',\n",
       " '而最近4连胜的魔术也想在这场比赛中一试牛刀，连胜凯尔特人马刺的他们，何惧尼克斯？',\n",
       " '(新体)[视频直播室] ',\n",
       " '[视频直播室-教育网专用] ',\n",
       " '[图文直播室]']"
      ]
     },
     "execution_count": 12,
     "metadata": {},
     "output_type": "execute_result"
    }
   ],
   "source": [
    "sentence_split(data[0])"
   ]
  },
  {
   "cell_type": "code",
   "execution_count": 13,
   "id": "dd0e4e7a-8f56-4505-ae97-79fa045dcbf7",
   "metadata": {},
   "outputs": [],
   "source": [
    "#句子降维\n",
    "sentence_splited = [sentence_split(sentences) for sentences in data]"
   ]
  },
  {
   "cell_type": "code",
   "execution_count": 14,
   "id": "d44654ce-2a40-4f67-b705-a674e8ee6879",
   "metadata": {},
   "outputs": [
    {
     "name": "stdout",
     "output_type": "stream",
     "text": [
      "['新浪正在视频直播尼克斯vs魔术 ', '魔兽小斯强强对话新浪体育讯12月31日8:00，新浪体育将为您视频直播魔术主场迎战尼克斯的比赛。', '摆脱了赛季初的低迷之后，尼克斯打出14胜1负战绩，最近他们在圣诞大战中又战胜了公牛，不过随后一战却再次被热火打败。', '如今尼克斯两胜公牛，两败于凯尔特人和热火，东部四强中只有魔术还没交手，两队在11月3日曾被安排一战，但是因故未能进行，急欲给自己加盖强队标签的尼克斯会在这场迟来的比赛中全力以赴。', '而最近4连胜的魔术也想在这场比赛中一试牛刀，连胜凯尔特人马刺的他们，何惧尼克斯？', '(新体)[视频直播室] ', '[视频直播室-教育网专用] ', '[图文直播室]']\n"
     ]
    }
   ],
   "source": [
    "for item in sentence_splited:\n",
    "    print(item)\n",
    "    break"
   ]
  },
  {
   "cell_type": "code",
   "execution_count": 15,
   "id": "e5a37517-a5cf-44ef-93ab-f132e82ad8d9",
   "metadata": {},
   "outputs": [],
   "source": [
    "merged_list = [item for sublist in sentence_splited for item in sublist]"
   ]
  },
  {
   "cell_type": "code",
   "execution_count": 16,
   "id": "5338219f-0520-4567-990e-bb2b685c7133",
   "metadata": {},
   "outputs": [
    {
     "data": {
      "text/plain": [
       "['新浪正在视频直播尼克斯vs魔术 ',\n",
       " '魔兽小斯强强对话新浪体育讯12月31日8:00，新浪体育将为您视频直播魔术主场迎战尼克斯的比赛。',\n",
       " '摆脱了赛季初的低迷之后，尼克斯打出14胜1负战绩，最近他们在圣诞大战中又战胜了公牛，不过随后一战却再次被热火打败。',\n",
       " '如今尼克斯两胜公牛，两败于凯尔特人和热火，东部四强中只有魔术还没交手，两队在11月3日曾被安排一战，但是因故未能进行，急欲给自己加盖强队标签的尼克斯会在这场迟来的比赛中全力以赴。',\n",
       " '而最近4连胜的魔术也想在这场比赛中一试牛刀，连胜凯尔特人马刺的他们，何惧尼克斯？',\n",
       " '(新体)[视频直播室] ',\n",
       " '[视频直播室-教育网专用] ',\n",
       " '[图文直播室]',\n",
       " '弗老大同意终止合同 ',\n",
       " '高层确认为球队利益让他离去新浪体育讯北京时间12月27日，来自新华网英文版消息，在经历了两周的效力之后，弗朗西斯决定离开北京队，俱乐部高层对此也做了确认。']"
      ]
     },
     "execution_count": 16,
     "metadata": {},
     "output_type": "execute_result"
    }
   ],
   "source": [
    "merged_list[:10]"
   ]
  },
  {
   "cell_type": "code",
   "execution_count": 17,
   "id": "986c487f-cc93-4593-b948-32f80f4e9407",
   "metadata": {},
   "outputs": [
    {
     "data": {
      "text/plain": [
       "617810"
      ]
     },
     "execution_count": 17,
     "metadata": {},
     "output_type": "execute_result"
    }
   ],
   "source": [
    "merged_list.__len__()"
   ]
  },
  {
   "cell_type": "markdown",
   "id": "cbeff665-2d8e-4bd7-a630-05ef3008f37c",
   "metadata": {},
   "source": [
    "> 句子长度筛选"
   ]
  },
  {
   "cell_type": "code",
   "execution_count": 18,
   "id": "b3c65ebb-a987-48b9-9457-f1f85cfd8ed9",
   "metadata": {},
   "outputs": [],
   "source": [
    "def filter_sentences_by_length(sentences, min_len, max_len):\n",
    "    \"\"\"\n",
    "    筛选出字数超过指定最小长度的所有句子。\n",
    "\n",
    "    参数：\n",
    "    sentences (list of str): 输入的句子列表。\n",
    "    min_length (int): 最小字数长度。\n",
    "\n",
    "    返回：\n",
    "    List[str]: 筛选后的句子列表。\n",
    "    \"\"\"\n",
    "    filtered_sentences = [sentence for sentence in sentences if len(sentence) > min_len and len(sentence) < max_len]\n",
    "    return filtered_sentences"
   ]
  },
  {
   "cell_type": "code",
   "execution_count": 19,
   "id": "368ec64f-f753-4d15-9e65-86d321e640c4",
   "metadata": {},
   "outputs": [],
   "source": [
    "#筛选掉过短的句子\n",
    "filtered_data = filter_sentences_by_length(merged_list,50,1000)"
   ]
  },
  {
   "cell_type": "code",
   "execution_count": 20,
   "id": "f2310acb-678b-418e-8ee9-be1187911223",
   "metadata": {},
   "outputs": [
    {
     "data": {
      "text/plain": [
       "110887"
      ]
     },
     "execution_count": 20,
     "metadata": {},
     "output_type": "execute_result"
    }
   ],
   "source": [
    "filtered_data.__len__()"
   ]
  },
  {
   "cell_type": "code",
   "execution_count": 21,
   "id": "475b95e7-ac21-4bd0-9e29-5e4794b76967",
   "metadata": {
    "scrolled": true
   },
   "outputs": [
    {
     "data": {
      "text/plain": [
       "['摆脱了赛季初的低迷之后，尼克斯打出14胜1负战绩，最近他们在圣诞大战中又战胜了公牛，不过随后一战却再次被热火打败。',\n",
       " '如今尼克斯两胜公牛，两败于凯尔特人和热火，东部四强中只有魔术还没交手，两队在11月3日曾被安排一战，但是因故未能进行，急欲给自己加盖强队标签的尼克斯会在这场迟来的比赛中全力以赴。',\n",
       " '高层确认为球队利益让他离去新浪体育讯北京时间12月27日，来自新华网英文版消息，在经历了两周的效力之后，弗朗西斯决定离开北京队，俱乐部高层对此也做了确认。',\n",
       " '在赛后的新闻发布会上，闵鹿蕾确认了弗朗西斯中场离开的消息，并且说“这是我第一次看到有球员在比赛期间离开的。',\n",
       " '闵鹿蕾的一番话，更加加剧了弗朗西斯离开北京队的可能性，而且他在25号缺席了球队的训练，原因是要和家里人度过圣诞节，他在接受采访时候表示：',\n",
       " '袁超在接受新华社采访时候，终于说出了今天谈判的进展，“我今天早上和弗朗西斯谈了谈关于他中场离开和圣诞节不训练的事儿，我告诉他，为了球队的利益，我们想让他离开。',\n",
       " '过去的两周，弗朗西斯一共为北京打了4场比赛，场均3分钟内得到0.5分，0.7个篮板，这和昔日的三次NBA全明星队员相比，确实相差甚远。',\n",
       " '他让整个世界都不同了新浪体育讯北京时间1月16日(美国当地时间1月15日)消息，休斯敦火箭客场挑战亚特兰大老鹰，火箭克服了种种不利因素，最终以112-106战胜了对手。',\n",
       " '和昨天的怒批裁判不同，今天阿帅开起了记者的玩笑，对《休斯敦纪实报》记者费根说，“你跟队报道比赛，你告诉我(赢球的)原因吧。',\n",
       " '对于今天的比赛，阿德尔曼总结道，“我们过去两年，我告诉他们，应该坚持下去，我们有连续赢得比赛的潜力，我们需要像今晚一样终结比赛，今天大家都很努力，阿隆今天打出了一场很好的比赛，手感很好，在昨晚经历了那样一场比赛后，我为他们今晚的表现骄傲。']"
      ]
     },
     "execution_count": 21,
     "metadata": {},
     "output_type": "execute_result"
    }
   ],
   "source": [
    "filtered_data[:10]"
   ]
  },
  {
   "cell_type": "markdown",
   "id": "c8944323-49ea-473d-b24f-46b2873ee6a7",
   "metadata": {},
   "source": [
    "> 分词、起始符号、终止符号、分chunk"
   ]
  },
  {
   "cell_type": "code",
   "execution_count": 22,
   "id": "d8778ac9-7c28-4158-8f1d-e4e5178579fd",
   "metadata": {},
   "outputs": [
    {
     "name": "stderr",
     "output_type": "stream",
     "text": [
      "Building prefix dict from the default dictionary ...\n",
      "Loading model from cache /tmp/jieba.cache\n",
      "Loading model cost 0.674 seconds.\n",
      "Prefix dict has been built successfully.\n"
     ]
    }
   ],
   "source": [
    "#进行分词，添加起始符号与终止符号\n",
    "data_split = [jieba.lcut(sentence) for sentence in filtered_data]\n",
    "\n",
    "#为现有的句子添加起始符号与终止符号\n",
    "processed_data = []\n",
    "\n",
    "for content in data_split:\n",
    "    content = [\"<sos>\"] + content + [\"<eos>\"]\n",
    "    processed_data.append(content)\n",
    "\n",
    "def merge_and_chunk(data, chunk_size):\n",
    "    \"\"\"\n",
    "    将所有嵌套列表合并为一个长列表，然后按指定大小分块。\n",
    "    \n",
    "    参数：\n",
    "    data (list of list of str): 输入的嵌套字符串列表。\n",
    "    chunk_size (int): 每个块的最大大小。\n",
    "    \n",
    "    返回：\n",
    "    list of list of str: 分块后的字符串列表。\n",
    "    \"\"\"\n",
    "    # 合并所有列表为一个长列表\n",
    "    merged_list = []\n",
    "    for sublist in data:\n",
    "        merged_list.extend(sublist)\n",
    "    \n",
    "    # 通过索引的方式，按指定大小分块\n",
    "    chunks = [merged_list[i:i + chunk_size] for i in range(0, len(merged_list), chunk_size)]\n",
    "    return chunks\n",
    "\n",
    "chunks = merge_and_chunk(processed_data,512)"
   ]
  },
  {
   "cell_type": "code",
   "execution_count": 23,
   "id": "4a49d44b-28aa-408a-86f9-902e1eb7245c",
   "metadata": {},
   "outputs": [
    {
     "name": "stdout",
     "output_type": "stream",
     "text": [
      "['<sos>', '摆脱', '了', '赛季', '初', '的', '低迷', '之后', '，', '尼克斯', '打出', '14', '胜', '1', '负', '战绩', '，', '最近', '他们', '在', '圣诞', '大战', '中', '又', '战胜', '了', '公牛', '，', '不过', '随后', '一战', '却', '再次', '被', '热火', '打败', '。', '<eos>', '<sos>', '如今', '尼克斯', '两胜', '公牛', '，', '两败', '于', '凯尔特人', '和', '热火', '，']\n"
     ]
    }
   ],
   "source": [
    "print(chunks[0][:50])"
   ]
  },
  {
   "cell_type": "markdown",
   "id": "796b4145-2839-41b3-b565-e9b072b11d52",
   "metadata": {},
   "source": [
    "> 建词汇表、编码"
   ]
  },
  {
   "cell_type": "code",
   "execution_count": 24,
   "id": "44737098-9497-4277-b9b9-4fd5244fcf39",
   "metadata": {},
   "outputs": [],
   "source": [
    "#词频统计\n",
    "from collections import Counter\n",
    "\n",
    "flattened_data = [word for sublist in chunks for word in sublist]\n",
    "\n",
    "# 统计词频\n",
    "word_counts = Counter(flattened_data)"
   ]
  },
  {
   "cell_type": "code",
   "execution_count": 25,
   "id": "0d7aea2b-43fb-4197-87d3-fdca5ca3ded0",
   "metadata": {},
   "outputs": [
    {
     "name": "stdout",
     "output_type": "stream",
     "text": [
      "，: 386450\n",
      "的: 266212\n",
      "<sos>: 110887\n",
      "<eos>: 110887\n",
      "。: 92382\n",
      "、: 61295\n",
      "在: 57557\n",
      "了: 44477\n",
      "是: 41607\n",
      "和: 33638\n",
      "也: 22747\n",
      "有: 21299\n",
      "》: 19648\n",
      "《: 19477\n",
      "中: 15748\n",
      "都: 15303\n",
      "“: 14289\n",
      "月: 14075\n",
      "): 13909\n",
      "他: 13758\n",
      "将: 13711\n",
      "年: 13515\n",
      "为: 13499\n",
      "我们: 13434\n",
      "(: 13358\n",
      "对: 13252\n",
      "我: 12986\n",
      "一个: 12655\n",
      "就: 12538\n",
      "上: 12490\n"
     ]
    }
   ],
   "source": [
    "# 打印词频最高的前100个词\n",
    "for word, freq in word_counts.most_common(30):\n",
    "    print(f\"{word}: {freq}\")"
   ]
  },
  {
   "cell_type": "code",
   "execution_count": 26,
   "id": "2509c3b7-799d-476b-a65d-074336d97041",
   "metadata": {},
   "outputs": [],
   "source": [
    "# 将高频词保存为列表，将这些词的频率也保存为列表\n",
    "high_freq_word = []\n",
    "high_freq = []\n",
    "for word, freq in word_counts.most_common(100):\n",
    "    high_freq_word.append(word)\n",
    "    high_freq.append(freq)"
   ]
  },
  {
   "cell_type": "code",
   "execution_count": 30,
   "id": "a110a375-e604-4b43-9b93-4eb58c940559",
   "metadata": {},
   "outputs": [
    {
     "data": {
      "image/png": "[encoded data removed]",
      "text/plain": [
       "<Figure size 1000x600 with 1 Axes>"
      ]
     },
     "metadata": {},
     "output_type": "display_data"
    }
   ],
   "source": [
    "# 将所有的词频保存成列表，绘制频率分布图\n",
    "all_freq = list(word_counts.values())\n",
    "all_freq.sort()\n",
    "\n",
    "import matplotlib.pyplot as plt\n",
    "import seaborn as sns\n",
    "\n",
    "# 绘制直方图\n",
    "# 绘制概率密度图\n",
    "plt.figure(figsize=(10, 6))\n",
    "sns.kdeplot(all_freq, color='blue', fill=True)\n",
    "plt.title('Log-Transformed Frequency Density of Values')\n",
    "plt.xlabel('Log(Value + 1)')\n",
    "plt.ylabel('Density')\n",
    "plt.grid(False)\n",
    "plt.show()"
   ]
  },
  {
   "cell_type": "code",
   "execution_count": 31,
   "id": "2317dee4-af5c-48ec-8e5c-cbfce63c8a37",
   "metadata": {},
   "outputs": [],
   "source": [
    "from collections import defaultdict, Counter\n",
    "\n",
    "class Vocab:\n",
    "    \"\"\"\n",
    "    可以同时接纳Token和text两种类型的数据\n",
    "    对原始文字数据，调用build方法，进行分词、完成预处理、完成词频筛选\n",
    "    对Token数据，使用init中的流程，完成添加未知词、词汇表构建并根据词汇表进行编码\n",
    "    建好词汇表后，再调用单独的方法来进行编码\n",
    "    \"\"\"\n",
    "    def __init__(self, tokens=None):\n",
    "        self.idx_to_token = list()\n",
    "        self.token_to_idx = dict()\n",
    "\n",
    "        if tokens is not None:\n",
    "            if \"<unk>\" not in tokens:\n",
    "                tokens = [\"<unk>\"] + tokens \n",
    "            if \"<sos>\" not in tokens:\n",
    "                tokens = [\"<sos>\"] + tokens\n",
    "            if \"<eos>\" not in tokens:\n",
    "                tokens = [\"<eos>\"] + tokens\n",
    "            for token in tokens:\n",
    "                self.idx_to_token.append(token)\n",
    "                self.token_to_idx[token] = len(self.idx_to_token) - 1\n",
    "            self.unk = self.token_to_idx['<unk>']\n",
    "\n",
    "    @classmethod\n",
    "\n",
    "    def build(cls, text\n",
    "              , min_freq = 1\n",
    "              , stopwords = set([\"的\", \"和\", \"了\", \"在\", \"是\", \"就\", \"不\", \"也\", \"有\", \"但\"])\n",
    "              , preprocessing=False\n",
    "              , reserved_tokens=None):\n",
    "        token_freqs = defaultdict(int)\n",
    "        for tokens in text:\n",
    "            if preprocessing:\n",
    "                #去除标点符号\n",
    "                tokens = [re.sub(r'[^\\w\\s]', '', token) for token in tokens]\n",
    "                #去除停用词\n",
    "                tokens = [token for token in tokens if token and token not in stopwords]\n",
    "            #词频筛选\n",
    "            for token in tokens:\n",
    "                token_freqs[token] += 1\n",
    "        uniq_tokens = [\"<unk>\", \"<sos>\", \"<eos>\"] + (reserved_tokens if reserved_tokens else [])\n",
    "        uniq_tokens += [token for token, freq in token_freqs.items() if freq >= min_freq and token != \"<unk>\"]\n",
    "        return cls(uniq_tokens)\n",
    "\n",
    "    def __len__(self):\n",
    "        return len(self.idx_to_token)\n",
    "\n",
    "    def __getitem__(self, token):\n",
    "        return self.token_to_idx.get(token, self.unk)\n",
    "\n",
    "    def convert_tokens_to_ids(self, tokens):\n",
    "        return [self[token] for token in tokens]\n",
    "\n",
    "    def convert_ids_to_tokens(self, indices):\n",
    "        return [self.idx_to_token[index] for index in indices]"
   ]
  },
  {
   "cell_type": "code",
   "execution_count": 32,
   "id": "7d25a4ad-2282-441b-b573-7b729c59bdfe",
   "metadata": {},
   "outputs": [],
   "source": [
    "vocab = Vocab.build(chunks,min_freq=1\n",
    "                   ,preprocessing = False\n",
    "                   )"
   ]
  },
  {
   "cell_type": "code",
   "execution_count": 33,
   "id": "dc6391ce-14aa-49e8-af39-da4c3189b8a9",
   "metadata": {},
   "outputs": [],
   "source": [
    "ordinal_token = []\n",
    "for tokens in chunks:\n",
    "    ordinal_token.append(vocab.convert_tokens_to_ids(tokens))"
   ]
  },
  {
   "cell_type": "code",
   "execution_count": 34,
   "id": "d9446e42-52d6-4cf6-8809-08ab15d52367",
   "metadata": {},
   "outputs": [
    {
     "name": "stdout",
     "output_type": "stream",
     "text": [
      "总字数: 4896774\n",
      "样本数量: 9565\n",
      "平均每篇文章的字数: 511.94709879769994\n",
      "最长句子的字数:512\n",
      "最短句子的字数:6\n",
      "句子长度的25%分位数:512.0\n",
      "句子长度的50%分位数:512.0\n",
      "句子长度的75%分位数:512.0\n",
      "句子长度的90%分位数:512.0\n"
     ]
    }
   ],
   "source": [
    "cal = calculate_stats(ordinal_token)\n",
    "cal.stats()"
   ]
  },
  {
   "cell_type": "markdown",
   "id": "c0183091-3dd6-4308-9bad-86e1fd7e0c69",
   "metadata": {},
   "source": [
    "- **生成式算法/Decoder-Only结构中的数据导入**"
   ]
  },
  {
   "cell_type": "markdown",
   "id": "d3c26508-c65b-49d8-bd0f-1531accc4d74",
   "metadata": {},
   "source": [
    "在数据进入Pytorch之前，我们通常需要将数据进行如下的处理——\n",
    "\n",
    "1. **将数据转变为与PyTorch兼容的结构**，包括但不限于：\n",
    "> - 确保数据集拥有`__len__` 方法（返回数据集大小）和 `__getitem__` 方法（根据索引返回数据）。<br><br>\n",
    "> - 数据应该是 `torch.Tensor` 类型，因为 PyTorch 的大部分操作都是针对张量进行的。如果数据是其他格式（如 NumPy 数组、Pandas DataFrame 等），需要将其转换为 PyTorch 张量。<br><br>\n",
    "> - 数据各类预处理：在加载数据之前需要进行归一化或其他基础的预处理操作，以确保数据适合训练，可以在 `__getitem__` 方法中添加这些预处理操作。\n",
    "\n",
    "2. **经过DataLoader对数据完成进一步的处理**，包括但不限于：\n",
    "> - 完成batch分割，将数据集转变为特定神经网络能够接纳的格式<br><br>\n",
    "> - 完成padding、裁剪、类型转换等奖数据变得更整齐的预处理操作"
   ]
  },
  {
   "cell_type": "code",
   "execution_count": 50,
   "id": "6e06d7c4-112e-487e-a054-1d2973b99e48",
   "metadata": {},
   "outputs": [],
   "source": [
    "import torch\n",
    "from torch import nn\n",
    "from torch.utils.data import Dataset, DataLoader\n",
    "from torch.nn.utils.rnn import pad_sequence"
   ]
  },
  {
   "cell_type": "code",
   "execution_count": 51,
   "id": "de9e007b-91c7-4476-8d78-b3f50246e14f",
   "metadata": {},
   "outputs": [],
   "source": [
    "#兼容Pytorch，我们使用继承自Dataset的类\n",
    "class TransformerDataset(Dataset):\n",
    "    def __init__(self, data):\n",
    "        # 初始化数据集，将传入的数据保存在实例变量data中\n",
    "        self.data = data\n",
    "\n",
    "    def __len__(self):\n",
    "        # 返回数据集的大小\n",
    "        return len(self.data)\n",
    "\n",
    "    def __getitem__(self, i):\n",
    "        # 根据索引i获取数据集中的第i个样本\n",
    "        return self.data[i]"
   ]
  },
  {
   "cell_type": "code",
   "execution_count": 52,
   "id": "9eb796d0-8cc3-4cbf-aac2-c7f470de2174",
   "metadata": {},
   "outputs": [],
   "source": [
    "# 定义collate_fn函数，用于在DataLoader中对一个batch的数据进行处理\n",
    "def collate_fn(examples):\n",
    "    # 将每个样本的输入部分转换为张量\n",
    "    seq = [torch.tensor(ex) for ex in examples]\n",
    "    y_true = [torch.tensor(ex[1:] + [0]) for ex in examples]\n",
    "    \n",
    "    # pytorch自带的padding工具\n",
    "    # 对batch内的样本进行padding，使其具有相同长度\n",
    "    seq = pad_sequence(seq, batch_first=True)\n",
    "    y_true = pad_sequence(y_true, batch_first=True)\n",
    "    \n",
    "    # 返回处理后的输入和目标\n",
    "    return seq, y_true"
   ]
  },
  {
   "cell_type": "markdown",
   "id": "058b8d68-57c5-44f1-bcbe-84f2d19b4e48",
   "metadata": {},
   "source": [
    "> - **灵魂拷问：Decoder-Only架构所需的数据输入是什么样子？**"
   ]
  },
  {
   "cell_type": "markdown",
   "id": "82bc8a0e-4ac8-4a77-9925-f5608ee1d82c",
   "metadata": {},
   "source": [
    "<center><img src=\"https://skojiangdoc.oss-cn-beijing.aliyuncs.com/2023DL/transformer/image-1.png\" alt=\"描述文字\" width=\"400\">"
   ]
  },
  {
   "cell_type": "markdown",
   "id": "f679e0a8-6fea-4813-9965-484015c6d6c6",
   "metadata": {},
   "source": [
    "几个关键事实：\n",
    "\n",
    "1) 与完整的Transformer不同，Decoder-only结构的输入没有memory，只有标签outputs（在pytorch的代码中一般写作tgt，但极易与损失函数使用的标签所混淆）\n",
    "\n",
    "2) Decoder-Only结构训练的时候是teacher forcing，测试的时候是autoregressive，因此不分特征标签、不分训练集测试集，只有一个序列seq。"
   ]
  },
  {
   "cell_type": "code",
   "execution_count": null,
   "id": "980c1471-eaff-4dad-8244-ccdda1ffccd6",
   "metadata": {},
   "outputs": [],
   "source": [
    "之前讲解过多次，Decoder-Only的结构中预测模式是：\n",
    "\n",
    "训练——（teacher forcing - 不会累计错误）\n",
    "\n",
    "这 👉 xxx1\n",
    "\n",
    "这是 👉 xxx2\n",
    "\n",
    "这是最 👉 xxx3\n",
    "\n",
    "这是最好 👉 xxx4\n",
    "\n",
    "测试——（autoregressive - 累计错误）\n",
    "\n",
    "这是最坏的时代 👉 xxx1\n",
    "\n",
    "这是最坏的时代，xxx1 👉 xxx2\n",
    "\n",
    "这是最坏的时代，xxx1 xxx2 👉 xxx3"
   ]
  },
  {
   "cell_type": "markdown",
   "id": "35cd43cd-6ded-4a28-95fa-e1e71b95c09e",
   "metadata": {},
   "source": [
    "那seq是什么结构呢？**在embedding之前，是（batch_size，seq_len），就像现在我们得到的ordinal_token一样**。在embedding之后，是（batch_size，seq_len，input_dimension），就是transformer所需要的输入数据格式。"
   ]
  },
  {
   "cell_type": "code",
   "execution_count": 53,
   "id": "db09c59c-1b5c-456b-bf70-8ecd12af8d60",
   "metadata": {},
   "outputs": [
    {
     "name": "stdout",
     "output_type": "stream",
     "text": [
      "[3, 4, 5, 6, 7, 8, 9, 10, 11, 12, 13, 14, 15, 4, 16, 17, 18, 19, 20, 21, 22, 23, 24, 4, 25, 26, 27, 28, 6, 7, 10, 29, 30, 8, 31, 32, 33, 34, 35, 36, 37, 31, 38, 39, 24, 8, 40, 41, 42, 43, 44, 45, 24, 46, 47, 48, 49, 50, 51, 52, 53, 35, 54, 24, 55, 56, 57, 58, 59, 60, 61, 62, 33, 63, 8, 64, 54, 24, 65, 66, 67, 68, 61, 24, 69, 70, 51, 71, 10, 72, 73, 74, 24, 75, 48, 76, 18, 77, 20, 78, 60, 79, 57, 24, 80, 81, 82, 83, 24, 84, 85, 86, 87, 88, 89, 31, 8, 90, 48, 91, 92, 31, 32, 51, 93, 33, 94, 46, 95, 96, 31, 10, 97, 98, 48, 91, 32, 99, 100, 24, 96, 67, 101, 31, 47, 24, 102, 8, 103, 104, 105, 106, 107, 108, 6, 109, 110, 11, 108, 6, 109, 111, 112, 113, 110, 11, 108, 114, 109, 110, 115, 3, 116, 117, 118, 119, 11, 120, 121, 27, 122, 123, 124, 125, 126, 4, 16, 127, 128, 17, 18, 129, 20, 24, 130, 131, 132, 133, 24, 48, 134, 35, 135, 31, 136, 39, 24, 137, 138, 139, 140, 24, 141, 120, 142, 97, 143, 35, 121, 33, 140, 144, 145, 146, 147, 148, 149, 24, 150, 137, 151, 152, 153, 154, 24, 155, 122, 24, 125, 156, 138, 139, 35, 33, 157, 158, 159, 31, 137, 48, 160, 161, 162, 163, 31, 32, 51, 24, 164, 165, 166, 24, 125, 48, 167, 168, 169, 139, 35, 170, 33, 48, 171, 31, 172, 173, 160, 24, 174, 121, 35, 137, 167, 139, 31, 133, 24, 175, 149, 150, 176, 177, 178, 179, 180, 181, 182, 48, 32, 183, 139, 31, 33, 157, 174, 31, 184, 24, 185, 186, 35, 137, 139, 140, 31, 187, 24, 188, 125, 48, 189, 190, 191, 35, 122, 31, 192, 24, 193, 177, 194, 68, 195, 196, 197, 24, 125, 48, 198, 199, 200, 201, 202, 150, 178, 164, 169, 203, 192, 24, 178, 85, 145, 204, 205, 206, 35, 24, 125, 97, 207, 35, 33, 157, 146, 48, 198, 148, 199, 200, 24, 208, 209, 35, 210, 211, 31, 212, 24, 150, 178, 210, 213, 68, 137, 214, 35, 214, 215, 125, 167, 139, 68, 197, 203, 192, 31, 216, 24, 178, 155, 125, 24, 217, 122, 31, 123, 24, 218, 98, 124, 125, 139, 33, 219, 125, 220, 164, 85, 178, 221, 222, 31, 223, 33, 157, 150, 80, 24, 224, 125, 151, 225, 48, 153, 226, 51, 31, 200, 24, 125, 149, 125, 156, 227, 228, 139, 35, 33, 157, 146, 149, 33, 229, 127, 141, 230, 137, 24, 231, 232, 233, 234, 235, 31, 236, 33, 237, 31, 135, 24, 137, 238, 27, 127, 204, 35, 95, 239, 32, 24, 240, 77, 241, 242, 243, 244, 245, 24, 246, 247, 248, 24, 176, 68, 249, 31, 250, 251, 252, 253, 254, 24, 255, 256, 257, 33, 141, 258, 259, 31, 138] \n",
      " \n",
      " [24, 260, 147, 233, 231, 181, 261, 33, 104, 262, 107, 115, 3, 263, 264, 265, 202, 266, 267, 11, 125, 124, 268, 269, 231, 270, 35, 4, 16, 127, 128, 43, 18, 271, 20, 104, 272, 273, 128, 43, 18, 274, 20, 107, 133, 24, 275, 276, 277, 278, 279, 280, 24, 276, 281, 35, 282, 283, 24, 284, 285, 286, 111, 287, 53, 35, 288, 33, 171, 24, 289, 290, 198, 35, 199, 24, 291, 292, 293, 294, 295, 111, 296, 68, 297, 111, 265, 24, 201, 298, 299, 300, 33, 68, 301, 31, 302, 303, 270, 24, 210, 263, 304, 35, 305, 31, 306, 24, 147, 307, 275, 308, 309, 310, 305, 311, 149, 24, 150, 312, 313, 314, 315, 32, 24, 312, 155, 178, 104, 316, 31, 107, 193, 317, 33, 157, 318, 210, 31, 32, 24, 289, 290, 319, 320, 24, 150, 218, 237, 321, 24, 178, 155, 47, 24, 322, 323, 24, 218, 181, 324, 325, 32, 31, 326, 24, 218, 327, 328, 329, 330, 331, 32, 24, 210, 332, 231, 333, 334, 24, 295, 210, 40, 35, 335, 333, 336, 31, 32, 24, 337, 333, 336, 24, 48, 338, 134, 35, 339, 335, 32, 340, 24, 178, 27, 47, 329, 31, 341, 342, 33, 157, 343, 265, 329, 31, 341, 24, 263, 344, 345, 24, 150, 104, 125, 31, 341, 107, 267, 33, 346, 218, 327, 125, 143, 31, 33, 125, 210, 347, 35, 348, 248, 24, 349, 348, 350, 24, 48, 351, 352, 24, 224, 125, 353, 354, 355, 31, 200, 24, 124, 218, 122, 268, 269, 231, 270, 35, 33, 157, 165, 48, 43, 18, 356, 357, 51, 325, 335, 358, 24, 263, 147, 329, 31, 32, 333, 359, 24, 59, 292, 35, 360, 361, 362, 24, 150, 176, 363, 218, 364, 31, 365, 24, 47, 333, 334, 24, 47, 366, 367, 24, 218, 368, 164, 369, 370, 143, 31, 371, 325, 372, 31, 32, 24, 218, 164, 347, 248, 24, 218, 164, 373, 336, 374, 33, 178, 232, 375, 376, 68, 329, 31, 32, 24, 377, 378, 379, 24, 380, 270, 24, 324, 349, 350, 33, 157, 263, 201, 24, 381, 48, 277, 382, 383, 355, 24, 339, 384, 325, 358, 24, 150, 178, 98, 385, 218, 386, 165, 331, 32, 24, 387, 122, 24, 388, 382, 389, 111, 76, 245, 390, 24, 48, 277, 384, 391, 31, 24, 224, 218, 392, 32, 51, 24, 218, 393, 24, 218, 327, 394, 393, 24, 218, 194, 395, 396, 397, 31, 398, 33, 157, 263, 201, 24, 399, 400, 31, 401, 318, 402, 31, 276, 333, 403, 24, 150, 265, 177, 333, 403, 31, 404, 24, 125, 177, 122, 405, 31, 365, 24, 125, 406, 407, 408, 24, 125, 203, 409, 86, 370, 410, 143, 24, 178, 406, 98, 180, 125, 165, 204, 411, 355, 412, 24, 125, 412, 32, 31, 200, 165, 181, 348, 353, 33, 232, 125, 165, 413, 210, 414, 143, 31, 415, 147, 416, 31, 32, 51, 33, 157, 305, 417, 231, 333, 418, 298, 419, 420, 24, 263, 201] \n",
      " \n",
      " [203, 421, 24, 150, 178, 203, 422, 24, 125, 406, 423, 24, 424, 425, 125, 426, 427, 428, 24, 178, 68, 429, 104, 430, 107, 431, 24, 80, 73, 432, 433, 133, 33, 157, 104, 434, 107, 115, 3, 435, 202, 436, 437, 438, 358, 439, 440, 11, 441, 177, 442, 443, 444, 329, 31, 32, 24, 177, 435, 445, 446, 39, 179, 285, 288, 31, 447, 68, 448, 449, 33, 48, 450, 91, 32, 386, 451, 270, 31, 452, 453, 24, 454, 363, 455, 31, 435, 456, 48, 448, 31, 457, 36, 255, 85, 125, 458, 35, 459, 460, 31, 461, 24, 55, 402, 462, 463, 464, 465, 466, 175, 467, 468, 469, 31, 125, 470, 35, 194, 471, 122, 53, 448, 31, 472, 24, 150, 448, 473, 36, 341, 474, 24, 160, 335, 475, 35, 476, 24, 94, 218, 53, 205, 476, 24, 477, 178, 98, 478, 31, 358, 322, 439, 218, 33, 157, 48, 448, 136, 183, 24, 435, 177, 122, 31, 479, 24, 48, 125, 31, 471, 480, 24, 448, 481, 482, 483, 484, 485, 31, 486, 122, 487, 488, 489, 70, 24, 94, 125, 490, 97, 40, 35, 491, 31, 492, 33, 329, 493, 473, 86, 494, 495, 31, 288, 24, 435, 496, 497, 498, 194, 499, 24, 481, 500, 501, 502, 503, 24, 150, 441, 177, 178, 504, 205, 31, 442, 443, 31, 145, 505, 24, 448, 31, 253, 97, 231, 366, 181, 506, 24, 507, 218, 382, 24, 508, 509, 510, 35, 33, 157, 435, 201, 33, 481, 368, 341, 511, 512, 513, 514, 340, 515, 516, 517, 518, 24, 426, 419, 519, 24, 520, 521, 231, 522, 517, 523, 24, 435, 31, 524, 97, 525, 35, 526, 31, 527, 24, 528, 403, 31, 177, 125, 419, 529, 165, 530, 86, 48, 122, 51, 31, 531, 24, 150, 178, 532, 35, 482, 105, 122, 24, 68, 348, 182, 488, 105, 497, 24, 178, 98, 181, 221, 533, 31, 534, 333, 535, 24, 176, 97, 177, 178, 536, 537, 32, 341, 538, 31, 193, 24, 539, 540, 253, 348, 24, 178, 541, 542, 543, 322, 544, 47, 528, 355, 31, 545, 24, 419, 122, 31, 546, 529, 336, 24, 178, 181, 547, 548, 90, 549, 33, 157, 160, 335, 550, 551, 95, 552, 95, 51, 24, 124, 218, 180, 35, 435, 181, 553, 554, 555, 24, 141, 556, 557, 232, 125, 558, 559, 33, 560, 561, 562, 31, 435, 563, 97, 564, 35, 24, 565, 566, 567, 94, 568, 31, 557, 304, 35, 306, 202, 150, 312, 569, 554, 35, 24, 570, 218, 24, 312, 411, 571, 572, 33, 157, 55, 333, 124, 365, 573, 31, 177, 24, 435, 467, 574, 24, 575, 58, 576, 577, 24, 324, 537, 32, 48, 578, 579, 160, 143, 411, 538, 24, 124, 122, 580, 451, 581, 33, 582, 509, 583, 31, 125, 419, 528, 203, 584, 585, 35, 24, 586, 587, 48, 588, 589, 590, 35, 591, 24, 575, 164, 592, 221, 222, 31, 593, 24, 125, 406, 149, 202, 150, 178, 68, 435, 594, 31, 546, 72, 165]\n"
     ]
    }
   ],
   "source": [
    "print(ordinal_token[0],\"\\n \\n\",ordinal_token[1],\"\\n \\n\",ordinal_token[2])"
   ]
  },
  {
   "cell_type": "markdown",
   "id": "4fbd258a-87eb-441b-9d95-fc64d57ac32d",
   "metadata": {},
   "source": [
    "3) dataloader需要整理的不止是Decoder-only结构本身需要的数据，而是整个训练过程中必备的数据。因此除了准备架构的输入之外，还要考虑在计算损失过程中必须的真实标签y_true。那真实标签y_true是什么结构呢？"
   ]
  },
  {
   "cell_type": "code",
   "execution_count": null,
   "id": "d763ced6-0874-447c-855c-cac38ba073ba",
   "metadata": {},
   "outputs": [],
   "source": [
    "依据现在的数据结构，我们的序列长度seq_len为512，因此Decoder-Only架构的训练模式是：\n",
    "\n",
    "这 👉 xxx1\n",
    "[0]    [1]\n",
    "\n",
    "这是 👉 xxx2\n",
    "[0,1]    [2]\n",
    "\n",
    "这是最 👉 xxx3\n",
    "[0,1,2]    [3]\n",
    "\n",
    "这是最好 👉 xxx4\n",
    "[0,1,2,3]    [4]\n",
    "\n",
    "以此类推……"
   ]
  },
  {
   "cell_type": "markdown",
   "id": "e721ae9c-4d57-4644-b7b8-244f5ecba6da",
   "metadata": {},
   "source": [
    "因此在Decoder的训练过程中，我们是依据“逐渐变长的句子前半段”来预测“句子的下一个字”。奇妙的是，虽然大部分人会认为上面的过程是按顺序逐渐发生的，但在Decoder架构中上述所有预测是同步进行的，且在Transformer的计算流程中，**上述的每一次预测都是一个样本**："
   ]
  },
  {
   "cell_type": "code",
   "execution_count": null,
   "id": "3c663656-6eeb-4394-9888-8ded46c37fb3",
   "metadata": {},
   "outputs": [],
   "source": [
    "样本1:\n",
    "这 👉 xxx1\n",
    "[0]    [1]\n",
    "\n",
    "样本2:\n",
    "这是 👉 xxx2\n",
    "[0,1]    [2]\n",
    "\n",
    "样本3:\n",
    "这是最 👉 xxx3\n",
    "[0,1,2]    [3]\n",
    "\n",
    "样本4:\n",
    "这是最好 👉 xxx4\n",
    "[0,1,2,3]    [4]"
   ]
  },
  {
   "cell_type": "markdown",
   "id": "6176ed53-3462-4713-8b6e-cf92bbb136be",
   "metadata": {},
   "source": [
    "输入数据是——\n",
    "\n",
    "<table>\n",
    "<tr>\n",
    "  <th>索引</th><th></th><th>y1</th><th>y2</th><th>y3</th><th>y4</th><th>y5</th>\n",
    "</tr>\n",
    "<tr>\n",
    "  <td>0</td><td>\"sos\"</td><td>0.1821</td><td>0.4000</td><td>0.2248</td><td>0.4440</td><td>0.7771</td>\n",
    "</tr>\n",
    "<tr>\n",
    "  <td>1</td><td>这</td><td>0.1821</td><td>0.4000</td><td>0.2248</td><td>0.4440</td><td>0.7771</td>\n",
    "</tr>\n",
    "<tr>\n",
    "  <td>2</td><td>是</td><td>0.1721</td><td>0.5030</td><td>0.8948</td><td>0.2385</td><td>0.0987</td>\n",
    "</tr>\n",
    "<tr>\n",
    "  <td>3</td><td>最好的</td><td>0.1342</td><td>0.8297</td><td>0.2978</td><td>0.7120</td><td>0.2565</td>\n",
    "</tr>\n",
    "<tr>\n",
    "  <td>4</td><td>时代</td><td>0.1248</td><td>0.5003</td><td>0.7559</td><td>0.4804</td><td>0.2593</td>\n",
    "</tr>\n",
    "</table>"
   ]
  },
  {
   "cell_type": "markdown",
   "id": "f4c88fdd-92ae-4b1a-82cf-d99f2358d283",
   "metadata": {},
   "source": [
    "然而，从Decoder的掩码注意力层中输出的是**经过掩码后**、每一行只携带特定时间段信息的结果$C_{decoder}$：\n",
    "\n",
    "$$\n",
    "C_{decoder} = \\begin{bmatrix}\n",
    "c_{0} & c_{0} & \\ldots & c_{0} \\\\\n",
    "c_{0 \\to 1} & c_{0 \\to 1} & \\ldots & c_{0 \\to 1} \\\\\n",
    "c_{0 \\to 1} & c_{0 \\to 2} & \\ldots & c_{0 \\to 2} \\\\\n",
    "c_{0 \\to 3} & c_{0 \\to 3} & \\ldots & c_{0 \\to 3} \\\\\n",
    "c_{0 \\to 4} & c_{0 \\to 4} & \\ldots & c_{0 \\to 4} \\\\\n",
    "&……\n",
    "\\end{bmatrix}\n",
    "$$\n",
    "\n",
    "<font color=\"red\">**这里出于教学目的，省略了特征维度上的脚标。现在你所看到的脚标只代表时间维度/序列长度的维度。**\n",
    "\n",
    "从注意力机制中输出的每行数据、就代表了一个“逐渐变长的句子前半段”，因此每行数据也就对应着一个标签。故而在下面的流程中，真实标签就是[1,2,3,4]这样的序列，也就是原始序列seq[1:] + [0]。"
   ]
  },
  {
   "cell_type": "code",
   "execution_count": 54,
   "id": "8955c17f-d487-4827-bb58-bf7b9627ba93",
   "metadata": {},
   "outputs": [],
   "source": [
    "#兼容Pytorch，我们使用继承自Dataset的类\n",
    "class TransformerDataset(Dataset):\n",
    "    def __init__(self, data):\n",
    "        # 初始化数据集，将传入的数据保存在实例变量data中\n",
    "        self.data = data\n",
    "\n",
    "    def __len__(self):\n",
    "        # 返回数据集的大小\n",
    "        return len(self.data)\n",
    "\n",
    "    def __getitem__(self, i):\n",
    "        # 根据索引i获取数据集中的第i个样本\n",
    "        return self.data[i]"
   ]
  },
  {
   "cell_type": "code",
   "execution_count": 55,
   "id": "13ac6afe-5128-4d71-b53c-9ebe5680d90c",
   "metadata": {},
   "outputs": [],
   "source": [
    "# 定义collate_fn函数，用于在DataLoader中对一个batch的数据进行处理\n",
    "def collate_fn(examples):\n",
    "    # 将每个样本的输入部分转换为张量\n",
    "    seq = [torch.tensor(ex) for ex in examples]\n",
    "    y_true = [torch.tensor(ex[1:] + [0]) for ex in examples]\n",
    "    \n",
    "    # pytorch自带的padding工具\n",
    "    # 对batch内的样本进行padding，使其具有相同长度\n",
    "    seq = pad_sequence(seq, batch_first=True)\n",
    "    y_true = pad_sequence(y_true, batch_first=True)\n",
    "    \n",
    "    # 返回处理后的输入和目标\n",
    "    return seq, y_true"
   ]
  },
  {
   "cell_type": "code",
   "execution_count": 56,
   "id": "9f47a067-93b9-45ba-8557-3ff49368e845",
   "metadata": {},
   "outputs": [],
   "source": [
    "batch_size = 32\n",
    "\n",
    "dataset = TransformerDataset(ordinal_token)  # 创建数据集\n",
    "dataloader = DataLoader(dataset\n",
    "                        , batch_size=batch_size\n",
    "                        , drop_last = False\n",
    "                        , collate_fn=collate_fn\n",
    "                        , shuffle=False)  # 创建训练数据加载器"
   ]
  },
  {
   "cell_type": "code",
   "execution_count": 57,
   "id": "d582c698-e513-4490-8264-ec7a05967fd7",
   "metadata": {},
   "outputs": [
    {
     "name": "stdout",
     "output_type": "stream",
     "text": [
      "[3, 4, 5, 6, 7, 8, 9, 10, 11, 12, 13, 14, 15, 4, 16, 17, 18, 19, 20, 21, 22, 23, 24, 4, 25, 26, 27, 28, 6, 7, 10, 29, 30, 8, 31, 32, 33, 34, 35, 36, 37, 31, 38, 39, 24, 8, 40, 41, 42, 43, 44, 45, 24, 46, 47, 48, 49, 50, 51, 52, 53, 35, 54, 24, 55, 56, 57, 58, 59, 60, 61, 62, 33, 63, 8, 64, 54, 24, 65, 66, 67, 68, 61, 24, 69, 70, 51, 71, 10, 72, 73, 74, 24, 75, 48, 76, 18, 77, 20, 78]\n"
     ]
    }
   ],
   "source": [
    "for x in dataset:\n",
    "    print(x[:100])\n",
    "    break"
   ]
  },
  {
   "cell_type": "code",
   "execution_count": 58,
   "id": "f0dab85b-f397-456a-b57c-9bd3d37ca3f5",
   "metadata": {},
   "outputs": [
    {
     "name": "stdout",
     "output_type": "stream",
     "text": [
      "(tensor([[   3,    4,    5,  ...,  259,   31,  138],\n",
      "        [  24,  260,  147,  ...,   24,  263,  201],\n",
      "        [ 203,  421,   24,  ...,  546,   72,  165],\n",
      "        ...,\n",
      "        [  24, 3256,   31,  ...,  366, 3349,   24],\n",
      "        [3350, 1142,  218,  ..., 3262,  546,  419],\n",
      "        [  97,  177, 3409,  ..., 3215,  479,  600]]), tensor([[   4,    5,    6,  ...,   31,  138,    0],\n",
      "        [ 260,  147,  233,  ...,  263,  201,    0],\n",
      "        [ 421,   24,  150,  ...,   72,  165,    0],\n",
      "        ...,\n",
      "        [3256,   31,  445,  ..., 3349,   24,    0],\n",
      "        [1142,  218, 3268,  ...,  546,  419,    0],\n",
      "        [ 177, 3409,   33,  ...,  479,  600,    0]])) \n",
      "\n",
      "\n",
      "seq: \n",
      " tensor([[   3,    4,    5,  ...,  259,   31,  138],\n",
      "        [  24,  260,  147,  ...,   24,  263,  201],\n",
      "        [ 203,  421,   24,  ...,  546,   72,  165],\n",
      "        ...,\n",
      "        [  24, 3256,   31,  ...,  366, 3349,   24],\n",
      "        [3350, 1142,  218,  ..., 3262,  546,  419],\n",
      "        [  97,  177, 3409,  ..., 3215,  479,  600]]) \n",
      "\n",
      "\n",
      "torch.Size([32, 512]) \n",
      "\n",
      "\n",
      "y_true: \n",
      " tensor([[   4,    5,    6,  ...,   31,  138,    0],\n",
      "        [ 260,  147,  233,  ...,  263,  201,    0],\n",
      "        [ 421,   24,  150,  ...,   72,  165,    0],\n",
      "        ...,\n",
      "        [3256,   31,  445,  ..., 3349,   24,    0],\n",
      "        [1142,  218, 3268,  ...,  546,  419,    0],\n",
      "        [ 177, 3409,   33,  ...,  479,  600,    0]]) \n",
      "\n",
      "\n",
      "torch.Size([32, 512])\n"
     ]
    }
   ],
   "source": [
    "for batch in dataloader:\n",
    "    print(batch,\"\\n\\n\") # 第一个batch中的实际数据，包括需要输入的seq与标签y_true\n",
    "    print(\"seq: \\n\", batch[0],\"\\n\\n\") #seq，结构为(batch_size, seq_len)\n",
    "    print(batch[0].shape,\"\\n\\n\")\n",
    "    print(\"y_true: \\n\", batch[1],\"\\n\\n\") #y_true，结构也为(batch_size,seq_len)\n",
    "    print(batch[1].shape)\n",
    "    break"
   ]
  },
  {
   "cell_type": "markdown",
   "id": "8cfc5464-369e-4c83-94d9-02d892001a7e",
   "metadata": {},
   "source": [
    "对生成式算法而言，我们不分训练集与测试集，同时我们也不分特征和标签，因为我们是用句子的前半段去预测句子的后半段。在生成式任务中，比如文本生成或语言模型训练，常常采用自回归模型（autoregressive model）来逐步预测序列中的下一个元素。这种情况下，通常不需要明确地划分训练集和测试集，而是通过给定的序列前半部分来预测后半部分，从而进行训练和评估。"
   ]
  }
 ],
 "metadata": {
  "kernelspec": {
   "display_name": "Python 3 (ipykernel)",
   "language": "python",
   "name": "python3"
  },
  "language_info": {
   "codemirror_mode": {
    "name": "ipython",
    "version": 3
   },
   "file_extension": ".py",
   "mimetype": "text/x-python",
   "name": "python",
   "nbconvert_exporter": "python",
   "pygments_lexer": "ipython3",
   "version": "3.9.7"
  }
 },
 "nbformat": 4,
 "nbformat_minor": 5
}
